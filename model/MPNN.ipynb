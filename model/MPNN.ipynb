{
 "cells": [
  {
   "cell_type": "code",
   "execution_count": 1,
   "metadata": {},
   "outputs": [],
   "source": [
    "from torch_geometric.nn.conv import MessagePassing\n",
    "from torch.nn import Linear"
   ]
  },
  {
   "cell_type": "code",
   "execution_count": null,
   "metadata": {},
   "outputs": [],
   "source": [
    "class MPNN(MessagePassing):\n",
    "    def __init__(self, emb_dim: int):\n",
    "        super().__init__(aggr='sum')  # Initialize the MessagePassing class with 'sum' aggregation.\n",
    "        self.message_linear = Linear(emb_dim, emb_dim)\n",
    "\n",
    "    def forward(self, x, edge_index):\n",
    "        # x has shape [N, in_channels]\n",
    "        # edge_index has shape [2, E]\n",
    "\n",
    "        return self.propagate(edge_index, x=x)  # The node features are passed to propagate().\n",
    "\n",
    "    def message(self, x_j):\n",
    "        # x_j has shape [E, in_channels]\n",
    "\n",
    "        return x_j  # The message function just returns the node features of the neighboring nodes.\n",
    "\n",
    "    def update(self, aggr_out):\n",
    "        # aggr_out has shape [N, in_channels]\n",
    "\n",
    "        return aggr_out  # The update function just returns the aggregated messages."
   ]
  }
 ],
 "metadata": {
  "kernelspec": {
   "display_name": "GDL",
   "language": "python",
   "name": "python3"
  },
  "language_info": {
   "codemirror_mode": {
    "name": "ipython",
    "version": 3
   },
   "file_extension": ".py",
   "mimetype": "text/x-python",
   "name": "python",
   "nbconvert_exporter": "python",
   "pygments_lexer": "ipython3",
   "version": "3.11.8"
  }
 },
 "nbformat": 4,
 "nbformat_minor": 2
}
