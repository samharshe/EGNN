{
 "cells": [
  {
   "cell_type": "code",
   "execution_count": 16,
   "metadata": {},
   "outputs": [],
   "source": [
    "import torch_geometric\n",
    "from torch_geometric.datasets import MD17\n",
    "from torch_geometric.nn import GCNConv\n",
    "from torch.nn import Module, Embedding, Linear, MSELoss, LeakyReLU\n",
    "from torch.optim import Adam\n",
    "from torch_geometric.nn import global_mean_pool\n",
    "import torch\n",
    "import matplotlib.pyplot as plt\n",
    "from torch import Tensor"
   ]
  },
  {
   "cell_type": "code",
   "execution_count": 17,
   "metadata": {},
   "outputs": [
    {
     "name": "stderr",
     "output_type": "stream",
     "text": [
      "/usr/local/Caskroom/miniconda/base/envs/GDL/lib/python3.11/site-packages/torch_geometric/data/dataset.py:239: UserWarning: The `pre_transform` argument differs from the one used in the pre-processed version of this dataset. If you want to make use of another pre-processing technique, pass `force_reload=True` explicitly to reload the dataset.\n",
      "  warnings.warn(\n"
     ]
    }
   ],
   "source": [
    "# load in dataset\n",
    "dataset = MD17(root='../data/benzene', name='benzene', transform=None, pre_transform=None)"
   ]
  },
  {
   "cell_type": "code",
   "execution_count": 132,
   "metadata": {},
   "outputs": [],
   "source": [
    "class ToyGCN(Module):\n",
    "    def __init__(self):\n",
    "        super().__init__()\n",
    "        \n",
    "        # initialize layers\n",
    "        self.embedding = Embedding(118, 16)\n",
    "        self.conv1 = GCNConv(16, 16)\n",
    "        self.lin1 = Linear(16, 16)\n",
    "        self.conv2 = GCNConv(16, 16)\n",
    "        self.lin2 = Linear(16, 4)\n",
    "        self.lin3 = Linear(4, 1)\n",
    "        self.non_linearity = LeakyReLU()\n",
    "\n",
    "    # define forward pass\n",
    "    def forward(self, data):\n",
    "        # get relevant parts from data arg\n",
    "        edge_index = data.edge_index        \n",
    "        pos = data.pos\n",
    "        pos.requires_grad = True\n",
    "        \n",
    "        # create edge_attr as the distance between two connected nodes\n",
    "        edge_attr = []\n",
    "        for src, tar in zip(edge_index[0], edge_index[1]):\n",
    "            dist = torch.dist(pos[src.item()], pos[tar.item()])\n",
    "            edge_attr.append(dist)\n",
    "        edge_attr = torch.stack(edge_attr)\n",
    "        \n",
    "        # initialize E_hat\n",
    "        E_hat = data.z\n",
    "\n",
    "        # embed E_hat and put it through embedding, conv, linear layers\n",
    "        E_hat = self.embedding(E_hat)\n",
    "        \n",
    "        E_hat = self.conv1(E_hat, edge_index, edge_attr)\n",
    "        E_hat = self.non_linearity(E_hat)\n",
    "        \n",
    "        E_hat = self.lin1(E_hat)\n",
    "        E_hat = self.non_linearity(E_hat)\n",
    "        \n",
    "        E_hat = self.conv2(E_hat, edge_index, edge_attr)\n",
    "        E_hat = self.non_linearity(E_hat)\n",
    "        \n",
    "        E_hat = self.lin2(E_hat)\n",
    "        E_hat = self.non_linearity(E_hat)\n",
    "        \n",
    "        E_hat = self.lin3(E_hat)\n",
    "        E_hat = self.non_linearity(E_hat)\n",
    "        \n",
    "        # combine representations of all nodes\n",
    "        # into single graph-level prediction\n",
    "        E_hat = global_mean_pool(E_hat, data.batch)\n",
    "        E_hat = E_hat.sum()\n",
    "        \n",
    "        # calculate the force on each atom, which is the negative gradient of the atom's position\n",
    "        E_hat.backward(retain_graph=True)\n",
    "        F_hat = pos.grad * -1\n",
    "        \n",
    "        return E_hat, F_hat"
   ]
  },
  {
   "cell_type": "code",
   "execution_count": 197,
   "metadata": {},
   "outputs": [],
   "source": [
    "model = ToyGCN()\n",
    "model.train()\n",
    "\n",
    "loss_fn = MSELoss()\n",
    "optimizer = Adam(model.parameters(), 0.0001)"
   ]
  },
  {
   "cell_type": "code",
   "execution_count": 198,
   "metadata": {},
   "outputs": [],
   "source": [
    "mini_dataset = dataset[:100]\n",
    "data = mini_dataset[0]"
   ]
  },
  {
   "cell_type": "code",
   "execution_count": 208,
   "metadata": {},
   "outputs": [],
   "source": [
    "losses = []\n",
    "\n",
    "for _ in range(1000):\n",
    "    for data in mini_dataset[:1]:        \n",
    "        E = data.energy\n",
    "        F = data.force\n",
    "        E_hat, F_hat = model(data)\n",
    "        \n",
    "        F_hat.requires_grad = True\n",
    "        \n",
    "        optimizer.zero_grad()\n",
    "\n",
    "        E_loss = loss_fn(E_hat, E)\n",
    "        F_error = F_hat - F\n",
    "        F_squared_error = torch.square(F_error)\n",
    "        F_atomwise_error_magnitudes = torch.sum(F_squared_error, dim=1)\n",
    "        F_loss = torch.div(torch.sum(F_squared_error), F.size()[0])\n",
    "        \n",
    "        # loss = F_loss * 10\n",
    "        loss = E_loss\n",
    "        \n",
    "        losses.append(loss.item())\n",
    "        \n",
    "        loss.backward()\n",
    "        optimizer.step()"
   ]
  },
  {
   "cell_type": "code",
   "execution_count": 209,
   "metadata": {},
   "outputs": [
    {
     "data": {
      "image/png": "[encoded data removed]",
      "text/plain": [
       "<Figure size 640x480 with 1 Axes>"
      ]
     },
     "metadata": {},
     "output_type": "display_data"
    }
   ],
   "source": [
    "plt.plot(range(len(losses)), losses)\n",
    "plt.ylim([0, 1])  # Set the maximum y-axis value\n",
    "plt.show()"
   ]
  },
  {
   "cell_type": "code",
   "execution_count": 214,
   "metadata": {},
   "outputs": [
    {
     "data": {
      "text/plain": [
       "tensor(1.4861e-05)"
      ]
     },
     "execution_count": 214,
     "metadata": {},
     "output_type": "execute_result"
    }
   ],
   "source": [
    "torch.max(F)"
   ]
  }
 ],
 "metadata": {
  "kernelspec": {
   "display_name": "GDL",
   "language": "python",
   "name": "python3"
  },
  "language_info": {
   "codemirror_mode": {
    "name": "ipython",
    "version": 3
   },
   "file_extension": ".py",
   "mimetype": "text/x-python",
   "name": "python",
   "nbconvert_exporter": "python",
   "pygments_lexer": "ipython3",
   "version": "3.11.8"
  }
 },
 "nbformat": 4,
 "nbformat_minor": 2
}
