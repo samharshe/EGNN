{
 "cells": [
  {
   "cell_type": "code",
   "execution_count": 26,
   "metadata": {},
   "outputs": [],
   "source": [
    "import torch_geometric\n",
    "import os\n",
    "from torch_geometric.datasets import MD17\n",
    "from torch_geometric.nn import GCNConv\n",
    "from torch.nn import Module, Embedding, Linear, MSELoss, LeakyReLU\n",
    "from torch.optim import Adam\n",
    "from torch_geometric.nn import global_mean_pool\n",
    "import torch.optim.lr_scheduler as lr_scheduler\n",
    "from torch_geometric.loader import DataLoader\n",
    "import torch\n",
    "import wandb\n",
    "from torch import Tensor"
   ]
  },
  {
   "cell_type": "code",
   "execution_count": 27,
   "metadata": {},
   "outputs": [
    {
     "name": "stderr",
     "output_type": "stream",
     "text": [
      "\u001b[34m\u001b[1mwandb\u001b[0m: \u001b[33mWARNING\u001b[0m Calling wandb.login() after wandb.init() has no effect.\n"
     ]
    },
    {
     "data": {
      "text/plain": [
       "<torch._C.Generator at 0x1118740f0>"
      ]
     },
     "execution_count": 27,
     "metadata": {},
     "output_type": "execute_result"
    }
   ],
   "source": [
    "# setting up wandb\n",
    "os.environ['WANDB_NOTEBOOK_NAME'] = 'toy_EGNN.ipynb'\n",
    "wandb.login()\n",
    "\n",
    "# reproducibility\n",
    "torch.manual_seed(2002)"
   ]
  },
  {
   "cell_type": "code",
   "execution_count": 28,
   "metadata": {},
   "outputs": [
    {
     "name": "stderr",
     "output_type": "stream",
     "text": [
      "/usr/local/Caskroom/miniconda/base/envs/GDL/lib/python3.11/site-packages/torch_geometric/data/dataset.py:239: UserWarning: The `pre_transform` argument differs from the one used in the pre-processed version of this dataset. If you want to make use of another pre-processing technique, pass `force_reload=True` explicitly to reload the dataset.\n",
      "  warnings.warn(\n"
     ]
    }
   ],
   "source": [
    "# load in dataset\n",
    "dataset = MD17(root='../data/benzene', name='benzene', transform=None, pre_transform=None)\n",
    "\n",
    "# 80/10/10 split\n",
    "train_size = int(0.8 * len(dataset))\n",
    "val_size = int(0.1 * len(dataset))\n",
    "test_size = len(dataset) - train_size - val_size\n",
    "\n",
    "# build train, val, test datasets out of main dataset\n",
    "train_dataset, val_dataset, test_dataset = torch.utils.data.random_split(dataset, [train_size, val_size, test_size])\n",
    "\n",
    "# turn into DataLoaders for batching efficiency\n",
    "train_loader = DataLoader(train_dataset, batch_size=128)\n",
    "val_loader = DataLoader(val_dataset, batch_size=128)\n",
    "test_loader = DataLoader(test_dataset, batch_size=128)"
   ]
  },
  {
   "cell_type": "code",
   "execution_count": null,
   "metadata": {},
   "outputs": [],
   "source": [
    "class ToyGCN(Module):\n",
    "    def __init__(self):\n",
    "        super().__init__()\n",
    "        \n",
    "        # initialize layers\n",
    "        self.embedding = Embedding(118, 16)\n",
    "        self.conv1 = GCNConv(16, 16)\n",
    "        self.lin1 = Linear(16, 16)\n",
    "        self.conv2 = GCNConv(16, 16)\n",
    "        self.lin2 = Linear(16, 4)\n",
    "        self.lin3 = Linear(4, 1)\n",
    "        self.non_linearity = LeakyReLU()\n",
    "\n",
    "    # define forward pass\n",
    "    def forward(self, data):\n",
    "        # get relevant parts from data arg\n",
    "        edge_index = data.edge_index        \n",
    "        pos = data.pos\n",
    "        pos.requires_grad = True\n",
    "        \n",
    "        # create edge_attr as the distance between two connected nodes\n",
    "        edge_attr = []\n",
    "        for src, tar in zip(edge_index[0], edge_index[1]):\n",
    "            dist = torch.dist(pos[src.item()], pos[tar.item()])\n",
    "            edge_attr.append(dist)\n",
    "        edge_attr = torch.stack(edge_attr)\n",
    "        \n",
    "        # initialize E_hat\n",
    "        E_hat = data.z\n",
    "\n",
    "        # embed E_hat\n",
    "        E_hat = self.embedding(E_hat)\n",
    "        \n",
    "        # conv layer 1\n",
    "        E_hat = self.conv1(E_hat, edge_index, edge_attr)\n",
    "        E_hat = self.non_linearity(E_hat)\n",
    "        \n",
    "        # linear layer 1\n",
    "        E_hat = self.lin1(E_hat)\n",
    "        E_hat = self.non_linearity(E_hat)\n",
    "        \n",
    "        # conv layer 2\n",
    "        E_hat = self.conv2(E_hat, edge_index, edge_attr)\n",
    "        E_hat = self.non_linearity(E_hat)\n",
    "        \n",
    "        # linear layer 2\n",
    "        E_hat = self.lin2(E_hat)\n",
    "        E_hat = self.non_linearity(E_hat)\n",
    "        \n",
    "        # linear layer 3: compression\n",
    "        E_hat = self.lin3(E_hat)\n",
    "        E_hat = self.non_linearity(E_hat)\n",
    "        \n",
    "        # combine representations of all nodes\n",
    "        # into single graph-level prediction\n",
    "        E_hat = global_mean_pool(E_hat, data.batch)\n",
    "        \n",
    "        # calculate the force on each atom, which is the negative gradient of the atom's position\n",
    "        E_hat.backward(retain_graph=True)\n",
    "        F_hat = -torch.autograd.grad(E_hat.sum(), pos, create_graph=True)[0]\n",
    "        \n",
    "        return E_hat, F_hat"
   ]
  },
  {
   "cell_type": "code",
   "execution_count": null,
   "metadata": {},
   "outputs": [],
   "source": [
    "model = ToyGCN()\n",
    "\n",
    "base_learning_rate = 0.0001\n",
    "num_epochs = 1\n",
    "\n",
    "optimizer = Adam(model.parameters(), base_learning_rate)\n",
    "scheduler = lr_scheduler.ReduceLROnPlateau(optimizer=optimizer, mode='min', factor=0.1, patience=1, threshold=0)\n",
    "loss_fn = MSELoss()\n",
    "\n",
    "val_mean_losses = []\n",
    "val_mean_E_losses = []\n",
    "val_mean_F_losses = []\n",
    "\n",
    "test_losses = []\n",
    "test_E_losses = []\n",
    "test_F_losses = []\n",
    "\n",
    "learning_rates = [base_learning_rate]"
   ]
  },
  {
   "cell_type": "code",
   "execution_count": null,
   "metadata": {},
   "outputs": [
    {
     "data": {
      "text/html": [
       "Finishing last run (ID:wvplvdf5) before initializing another..."
      ],
      "text/plain": [
       "<IPython.core.display.HTML object>"
      ]
     },
     "metadata": {},
     "output_type": "display_data"
    },
    {
     "data": {
      "text/html": [
       " View run <strong style=\"color:#cdcd00\">rosy-surf-1</strong> at: <a href='https://wandb.ai/sharshe/EGNN/runs/wvplvdf5' target=\"_blank\">https://wandb.ai/sharshe/EGNN/runs/wvplvdf5</a><br/> View project at: <a href='https://wandb.ai/sharshe/EGNN' target=\"_blank\">https://wandb.ai/sharshe/EGNN</a><br/>Synced 6 W&B file(s), 0 media file(s), 2 artifact file(s) and 0 other file(s)"
      ],
      "text/plain": [
       "<IPython.core.display.HTML object>"
      ]
     },
     "metadata": {},
     "output_type": "display_data"
    },
    {
     "data": {
      "text/html": [
       "Find logs at: <code>./wandb/run-20240605_151037-wvplvdf5/logs</code>"
      ],
      "text/plain": [
       "<IPython.core.display.HTML object>"
      ]
     },
     "metadata": {},
     "output_type": "display_data"
    },
    {
     "data": {
      "text/html": [
       "Successfully finished last run (ID:wvplvdf5). Initializing new run:<br/>"
      ],
      "text/plain": [
       "<IPython.core.display.HTML object>"
      ]
     },
     "metadata": {},
     "output_type": "display_data"
    },
    {
     "data": {
      "text/html": [
       "Tracking run with wandb version 0.17.0"
      ],
      "text/plain": [
       "<IPython.core.display.HTML object>"
      ]
     },
     "metadata": {},
     "output_type": "display_data"
    },
    {
     "data": {
      "text/html": [
       "Run data is saved locally in <code>/Users/samharshe/Documents/Gerstein Lab/EGNN/model/wandb/run-20240605_151818-an8tjwdx</code>"
      ],
      "text/plain": [
       "<IPython.core.display.HTML object>"
      ]
     },
     "metadata": {},
     "output_type": "display_data"
    },
    {
     "data": {
      "text/html": [
       "Syncing run <strong><a href='https://wandb.ai/sharshe/EGNN/runs/an8tjwdx' target=\"_blank\">lemon-paper-2</a></strong> to <a href='https://wandb.ai/sharshe/EGNN' target=\"_blank\">Weights & Biases</a> (<a href='https://wandb.me/run' target=\"_blank\">docs</a>)<br/>"
      ],
      "text/plain": [
       "<IPython.core.display.HTML object>"
      ]
     },
     "metadata": {},
     "output_type": "display_data"
    },
    {
     "data": {
      "text/html": [
       " View project at <a href='https://wandb.ai/sharshe/EGNN' target=\"_blank\">https://wandb.ai/sharshe/EGNN</a>"
      ],
      "text/plain": [
       "<IPython.core.display.HTML object>"
      ]
     },
     "metadata": {},
     "output_type": "display_data"
    },
    {
     "data": {
      "text/html": [
       " View run at <a href='https://wandb.ai/sharshe/EGNN/runs/an8tjwdx' target=\"_blank\">https://wandb.ai/sharshe/EGNN/runs/an8tjwdx</a>"
      ],
      "text/plain": [
       "<IPython.core.display.HTML object>"
      ]
     },
     "metadata": {},
     "output_type": "display_data"
    },
    {
     "data": {
      "text/html": [
       "<button onClick=\"this.nextSibling.style.display='block';this.style.display='none';\">Display W&B run</button><iframe src='https://wandb.ai/sharshe/EGNN/runs/an8tjwdx?jupyter=true' style='border:none;width:100%;height:420px;display:none;'></iframe>"
      ],
      "text/plain": [
       "<wandb.sdk.wandb_run.Run at 0x12d61c9d0>"
      ]
     },
     "execution_count": 24,
     "metadata": {},
     "output_type": "execute_result"
    }
   ],
   "source": [
    "wandb.init(\n",
    "    project = \"EGNN\",\n",
    "    config = {\n",
    "        \"model\": \"2-layer GCNN\",\n",
    "        \"embed_dimension\": 8,\n",
    "        \"optimizer\": \"Adam\",\n",
    "        \"base_learning_rate\": 0.0001,\n",
    "        \"dataset\": \"MD17\",\n",
    "        \"scheduler\": \"ReduceLROnPlateau\",\n",
    "        \"epochs\": num_epochs\n",
    "    }\n",
    ")"
   ]
  },
  {
   "cell_type": "code",
   "execution_count": null,
   "metadata": {},
   "outputs": [],
   "source": [
    "def CalcF_Loss(F: Tensor, F_hat: Tensor) -> Tensor:\n",
    "        # average square of the magnitude of the difference between the predicted and actual force vectors on each atom\n",
    "        # also squared error, just a more complicated calculation\n",
    "        # multiplied by 1e8 so that the losses for F and E begin on the same OOM\n",
    "        F_error = F_hat - F\n",
    "        F_squared_error = torch.square(F_error)\n",
    "        F_atomwise_error_magnitudes = torch.sum(F_squared_error, dim=1)\n",
    "        F_loss = torch.div(torch.sum(F_squared_error), F.size()[0]) * 1e8\n",
    "        return F_Loss"
   ]
  },
  {
   "cell_type": "code",
   "execution_count": null,
   "metadata": {},
   "outputs": [
    {
     "name": "stderr",
     "output_type": "stream",
     "text": [
      "/usr/local/Caskroom/miniconda/base/envs/GDL/lib/python3.11/site-packages/torch/nn/modules/loss.py:535: UserWarning: Using a target size (torch.Size([1])) that is different to the input size (torch.Size([1, 1])). This will likely lead to incorrect results due to broadcasting. Please ensure they have the same size.\n",
      "  return F.mse_loss(input, target, reduction=self.reduction)\n"
     ]
    }
   ],
   "source": [
    "for epoch in range(num_epochs):\n",
    "    # TRAINING\n",
    "    # track gradients\n",
    "    model.train()\n",
    "    \n",
    "    i = 0\n",
    "    \n",
    "    # loop through loader\n",
    "    for data in train_loader:\n",
    "        # target values\n",
    "        E = data.energy\n",
    "        F = data.force\n",
    "        \n",
    "        # predictions from the model\n",
    "        E_hat, F_hat = model(data)\n",
    "        \n",
    "        # clear out the gradients from autograd (?)\n",
    "        # (not sure whether this is necessary anymore because I changed the code that calculates the force predictions, but I don't think it can hurt)\n",
    "        optimizer.zero_grad()\n",
    "\n",
    "        # squared error for energy loss\n",
    "        E_loss = loss_fn(E_hat, E)\n",
    "\n",
    "        # a version of squared error for force loss\n",
    "        F_loss = CalcF_Loss(F_hat, F)\n",
    "        \n",
    "        # canonical loss\n",
    "        loss = F_loss + E_loss\n",
    "    \n",
    "        # calculate gradients\n",
    "        loss.backward()\n",
    "        \n",
    "        # update\n",
    "        optimizer.step()\n",
    "    \n",
    "        # clear gradients again for good measure\n",
    "        optimizer.zero_grad()\n",
    "        \n",
    "        # save loss every 100 goes\n",
    "        if i%100 == 0:\n",
    "            wandb.log({\"train_losses\": loss.item()})\n",
    "            wandb.log({\"E_train_losses\": E_loss.item()})\n",
    "            wandb.log({\"F_train_losses\": F_loss.item()})\n",
    "            \n",
    "            # save learning rate\n",
    "            lr = optimizer.param_groups[0]['lr']\n",
    "            wandb.log({\"training_rates\": lr})\n",
    "        i+=1\n",
    "        \n",
    "    \n",
    "    # VAL\n",
    "    epoch_losses = []\n",
    "    epoch_E_losses = []\n",
    "    epoch_F_losses = []\n",
    "    \n",
    "    # do not keep track of gradients\n",
    "    model.eval()\n",
    "    \n",
    "    # loop through val loader\n",
    "    for data in val_loader:\n",
    "        # target values\n",
    "        E = data.energy\n",
    "        F = data.force\n",
    "        \n",
    "        # predictions from the model\n",
    "        E_hat, F_hat = model(data)\n",
    "        \n",
    "        # clear out the gradients from autograd (?)\n",
    "        # (not sure whether this is necessary anymore because I changed the code that calculates the force predictions, but I don't think it can hurt)\n",
    "        optimizer.zero_grad()\n",
    "\n",
    "        # squared error for energy loss\n",
    "        E_loss = loss_fn(E_hat, E)\n",
    "        \n",
    "        # a version of squared error for force loss\n",
    "        F_loss = CalcF_Loss(F_hat, F)\n",
    "        \n",
    "        # canonical loss\n",
    "        loss = F_loss + E_loss\n",
    "        \n",
    "        # track F_loss, E_loss, canonical loss\n",
    "        epoch_losses.append(loss.item())\n",
    "        epoch_E_losses.append(E_loss.item())\n",
    "        epoch_F_losses.append(F_loss.item())\n",
    "    \n",
    "    epoch_mean_loss = torch.mean(torch.tensor(epoch_losses)).item()\n",
    "    epoch_mean_E_loss = torch.mean(torch.tensor(epoch_E_losses)).item()\n",
    "    epoch_mean_F_loss = torch.mean(torch.tensor(epoch_F_losses)).item()\n",
    "    \n",
    "    val_mean_losses.append(epoch_mean_loss)\n",
    "    val_mean_E_losses.append(epoch_mean_E_loss)\n",
    "    val_mean_F_losses.append(epoch_mean_F_loss)\n",
    "    \n",
    "    wandb.log({\"epoch_mean_loss\": epoch_mean_loss})\n",
    "    wandb.log({\"epoch_mean_E_loss\": epoch_mean_E_loss})\n",
    "    wandb.log({\"epoch_mean_F_loss\": epoch_mean_F_loss})\n",
    "    \n",
    "    # print out the results of the epoch\n",
    "    print(f'EPOCH {epoch+1} OF {num_epochs} | VAL MEAN LOSS: {epoch_mean_loss}')\n",
    "    \n",
    "    # if this is our best val performance yet, save the weights\n",
    "    if min(val_mean_losses) == epoch_mean_loss:\n",
    "        torch.save(model, 'models/toy_EGNN.pth')\n",
    "        \n",
    "    scheduler.step(epoch_mean_loss)\n",
    "\n",
    "# TEST\n",
    "for data in test_loader:\n",
    "    # target values\n",
    "    E = data.energy\n",
    "    F = data.force\n",
    "    \n",
    "    # predictions from the model\n",
    "    E_hat, F_hat = model(data)\n",
    "    \n",
    "    # clear out the gradients from autograd (?)\n",
    "    # (not sure whether this is necessary anymore because I changed the code that calculates the force predictions, but I don't think it can hurt)\n",
    "    optimizer.zero_grad()\n",
    "\n",
    "    # squared error for energy loss\n",
    "    E_loss = loss_fn(E_hat, E)\n",
    "    \n",
    "    # a version of squared error for force loss\n",
    "    F_loss = CalcF_Loss(F_hat, F)\n",
    "    \n",
    "    # canonical loss\n",
    "    loss = F_loss + E_loss\n",
    "    \n",
    "    # save losses\n",
    "    test_losses.append(loss.item())\n",
    "    test_E_losses.append(E_loss.item())\n",
    "    test_F_losses.append(F_loss.item())\n",
    "\n",
    "# save and print mean test loss\n",
    "test_mean_loss = torch.mean(torch.tensor(test_losses)).item()\n",
    "test_mean_E_loss = torch.mean(torch.tensor(test_E_losses)).item()\n",
    "test_mean_F_loss = torch.mean(torch.tensor(test_F_losses)).item()\n",
    "\n",
    "wandb.log({\"test_mean_loss\": test_mean_loss})\n",
    "wandb.log({\"test_mean_E_loss\": test_mean_E_loss})\n",
    "wandb.log({\"test_mean_F_loss\": test_mean_F_loss})\n",
    "\n",
    "print(f'TEST MEAN LOSS: {test_mean_loss}')\n",
    "\n",
    "wandb.finish()"
   ]
  }
 ],
 "metadata": {
  "kernelspec": {
   "display_name": "GDL",
   "language": "python",
   "name": "python3"
  },
  "language_info": {
   "codemirror_mode": {
    "name": "ipython",
    "version": 3
   },
   "file_extension": ".py",
   "mimetype": "text/x-python",
   "name": "python",
   "nbconvert_exporter": "python",
   "pygments_lexer": "ipython3",
   "version": "3.11.8"
  }
 },
 "nbformat": 4,
 "nbformat_minor": 2
}
