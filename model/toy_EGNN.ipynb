{
 "cells": [
  {
   "cell_type": "code",
   "execution_count": 2,
   "metadata": {},
   "outputs": [],
   "source": [
    "import torch_geometric\n",
    "import os\n",
    "from torch_geometric.datasets import MD17\n",
    "from torch_geometric.nn import GCNConv\n",
    "from torch.nn import Module, Embedding, Linear, MSELoss, LeakyReLU\n",
    "from torch.optim import Adam\n",
    "from torch_geometric.nn import global_mean_pool\n",
    "import torch.optim.lr_scheduler as lr_scheduler\n",
    "from torch_geometric.loader import DataLoader\n",
    "import torch\n",
    "import wandb\n",
    "from torch import Tensor"
   ]
  },
  {
   "cell_type": "code",
   "execution_count": 27,
   "metadata": {},
   "outputs": [
    {
     "name": "stderr",
     "output_type": "stream",
     "text": [
      "\u001b[34m\u001b[1mwandb\u001b[0m: \u001b[33mWARNING\u001b[0m Calling wandb.login() after wandb.init() has no effect.\n"
     ]
    },
    {
     "data": {
      "text/plain": [
       "<torch._C.Generator at 0x1109700f0>"
      ]
     },
     "execution_count": 27,
     "metadata": {},
     "output_type": "execute_result"
    }
   ],
   "source": [
    "# setting up wandb\n",
    "os.environ['WANDB_NOTEBOOK_NAME'] = 'toy_EGNN.ipynb'\n",
    "wandb.login()\n",
    "\n",
    "# reproducibility\n",
    "torch.manual_seed(2002)"
   ]
  },
  {
   "cell_type": "code",
   "execution_count": 3,
   "metadata": {},
   "outputs": [
    {
     "name": "stderr",
     "output_type": "stream",
     "text": [
      "/usr/local/Caskroom/miniconda/base/envs/GDL/lib/python3.11/site-packages/torch_geometric/data/dataset.py:239: UserWarning: The `pre_transform` argument differs from the one used in the pre-processed version of this dataset. If you want to make use of another pre-processing technique, pass `force_reload=True` explicitly to reload the dataset.\n",
      "  warnings.warn(\n"
     ]
    }
   ],
   "source": [
    "# load in dataset\n",
    "dataset = MD17(root='../data/benzene', name='benzene', transform=None, pre_transform=None)\n",
    "\n",
    "# 80/10/10 split\n",
    "train_size = int(0.8 * len(dataset))\n",
    "val_size = int(0.1 * len(dataset))\n",
    "test_size = len(dataset) - train_size - val_size\n",
    "\n",
    "# build train, val, test datasets out of main dataset\n",
    "train_dataset, val_dataset, test_dataset = torch.utils.data.random_split(dataset, [train_size, val_size, test_size])\n",
    "\n",
    "# turn into DataLoaders for batching efficiency\n",
    "train_loader = DataLoader(train_dataset, batch_size=128)\n",
    "val_loader = DataLoader(val_dataset, batch_size=128)\n",
    "test_loader = DataLoader(test_dataset, batch_size=128)"
   ]
  },
  {
   "cell_type": "code",
   "execution_count": 39,
   "metadata": {},
   "outputs": [],
   "source": [
    "class ToyGCN(Module):\n",
    "    def __init__(self):\n",
    "        super().__init__()\n",
    "        \n",
    "        # initialize layers\n",
    "        self.embedding = Embedding(118, 16)\n",
    "        self.conv1 = GCNConv(16, 16)\n",
    "        self.lin1 = Linear(16, 16)\n",
    "        self.conv2 = GCNConv(16, 16)\n",
    "        self.lin2 = Linear(16, 4)\n",
    "        self.lin3 = Linear(4, 1)\n",
    "        self.non_linearity = LeakyReLU()\n",
    "\n",
    "    # define forward pass\n",
    "    def forward(self, data):\n",
    "        # get relevant parts from data arg\n",
    "        edge_index = data.edge_index        \n",
    "        pos = data.pos\n",
    "        pos.requires_grad = True\n",
    "        \n",
    "        # calculate distances between nodes\n",
    "        edge_attr = torch.sqrt(torch.sum(torch.square(pos[edge_index[0,:]] - pos[edge_index[1,:]]),dim=1))\n",
    "        \n",
    "        # initialize E_hat\n",
    "        E_hat = data.z\n",
    "\n",
    "        # embed E_hat\n",
    "        E_hat = self.embedding(E_hat)\n",
    "        \n",
    "        # conv layer 1\n",
    "        E_hat = self.conv1(E_hat, edge_index, edge_attr)\n",
    "        E_hat = self.non_linearity(E_hat)\n",
    "        \n",
    "        # linear layer 1\n",
    "        E_hat = self.lin1(E_hat)\n",
    "        E_hat = self.non_linearity(E_hat)\n",
    "        \n",
    "        # conv layer 2\n",
    "        E_hat = self.conv2(E_hat, edge_index, edge_attr)\n",
    "        E_hat = self.non_linearity(E_hat)\n",
    "        \n",
    "        # linear layer 2\n",
    "        E_hat = self.lin2(E_hat)\n",
    "        E_hat = self.non_linearity(E_hat)\n",
    "        \n",
    "        # linear layer 3: compression\n",
    "        E_hat = self.lin3(E_hat)\n",
    "        E_hat = self.non_linearity(E_hat)\n",
    "        \n",
    "        # combine representations of all nodes\n",
    "        # into single graph-level prediction\n",
    "        E_hat = global_mean_pool(E_hat, data.batch)\n",
    "        #* sum pool, not mean pool\n",
    "        \n",
    "        # calculate the force on each atom, which is the negative gradient of the atom's position\n",
    "        F_hat = -torch.autograd.grad(E_hat.sum(), pos, create_graph=True)[0]\n",
    "        \n",
    "        return E_hat, F_hat"
   ]
  },
  {
   "cell_type": "code",
   "execution_count": 41,
   "metadata": {},
   "outputs": [],
   "source": [
    "model = ToyGCN()"
   ]
  },
  {
   "cell_type": "code",
   "execution_count": 30,
   "metadata": {},
   "outputs": [],
   "source": [
    "model = ToyGCN()\n",
    "\n",
    "base_learning_rate = 0.0001\n",
    "num_epochs = 1\n",
    "\n",
    "optimizer = Adam(model.parameters(), base_learning_rate)\n",
    "scheduler = lr_scheduler.ReduceLROnPlateau(optimizer=optimizer, mode='min', factor=0.1, patience=1, threshold=0)\n",
    "loss_fn = MSELoss()\n",
    "\n",
    "val_mean_losses = []\n",
    "val_mean_E_losses = []\n",
    "val_mean_F_losses = []\n",
    "\n",
    "test_losses = []\n",
    "test_E_losses = []\n",
    "test_F_losses = []\n",
    "\n",
    "learning_rates = [base_learning_rate]"
   ]
  },
  {
   "cell_type": "code",
   "execution_count": 31,
   "metadata": {},
   "outputs": [
    {
     "data": {
      "text/html": [
       "Finishing last run (ID:3rr81nag) before initializing another..."
      ],
      "text/plain": [
       "<IPython.core.display.HTML object>"
      ]
     },
     "metadata": {},
     "output_type": "display_data"
    },
    {
     "data": {
      "text/html": [
       "W&B sync reduced upload amount by 14.3%             "
      ],
      "text/plain": [
       "<IPython.core.display.HTML object>"
      ]
     },
     "metadata": {},
     "output_type": "display_data"
    },
    {
     "data": {
      "text/html": [
       "<style>\n",
       "    table.wandb td:nth-child(1) { padding: 0 10px; text-align: left ; width: auto;} td:nth-child(2) {text-align: left ; width: 100%}\n",
       "    .wandb-row { display: flex; flex-direction: row; flex-wrap: wrap; justify-content: flex-start; width: 100% }\n",
       "    .wandb-col { display: flex; flex-direction: column; flex-basis: 100%; flex: 1; padding: 10px; }\n",
       "    </style>\n",
       "<div class=\"wandb-row\"><div class=\"wandb-col\"><h3>Run history:</h3><br/><table class=\"wandb\"><tr><td>E_train_losses</td><td>▁</td></tr><tr><td>F_train_losses</td><td>▁</td></tr><tr><td>train_losses</td><td>▁</td></tr><tr><td>training_rates</td><td>▁</td></tr></table><br/></div><div class=\"wandb-col\"><h3>Run summary:</h3><br/><table class=\"wandb\"><tr><td>E_train_losses</td><td>0.1309</td></tr><tr><td>F_train_losses</td><td>0.70616</td></tr><tr><td>train_losses</td><td>0.83707</td></tr><tr><td>training_rates</td><td>0.0001</td></tr></table><br/></div></div>"
      ],
      "text/plain": [
       "<IPython.core.display.HTML object>"
      ]
     },
     "metadata": {},
     "output_type": "display_data"
    },
    {
     "data": {
      "text/html": [
       " View run <strong style=\"color:#cdcd00\">wobbly-forest-5</strong> at: <a href='https://wandb.ai/sharshe/EGNN/runs/3rr81nag' target=\"_blank\">https://wandb.ai/sharshe/EGNN/runs/3rr81nag</a><br/> View project at: <a href='https://wandb.ai/sharshe/EGNN' target=\"_blank\">https://wandb.ai/sharshe/EGNN</a><br/>Synced 6 W&B file(s), 0 media file(s), 2 artifact file(s) and 0 other file(s)"
      ],
      "text/plain": [
       "<IPython.core.display.HTML object>"
      ]
     },
     "metadata": {},
     "output_type": "display_data"
    },
    {
     "data": {
      "text/html": [
       "Find logs at: <code>./wandb/run-20240605_154350-3rr81nag/logs</code>"
      ],
      "text/plain": [
       "<IPython.core.display.HTML object>"
      ]
     },
     "metadata": {},
     "output_type": "display_data"
    },
    {
     "data": {
      "text/html": [
       "Successfully finished last run (ID:3rr81nag). Initializing new run:<br/>"
      ],
      "text/plain": [
       "<IPython.core.display.HTML object>"
      ]
     },
     "metadata": {},
     "output_type": "display_data"
    },
    {
     "data": {
      "text/html": [
       "Tracking run with wandb version 0.17.0"
      ],
      "text/plain": [
       "<IPython.core.display.HTML object>"
      ]
     },
     "metadata": {},
     "output_type": "display_data"
    },
    {
     "data": {
      "text/html": [
       "Run data is saved locally in <code>/Users/samharshe/Documents/Gerstein Lab/EGNN/model/wandb/run-20240605_154646-ev0y3kox</code>"
      ],
      "text/plain": [
       "<IPython.core.display.HTML object>"
      ]
     },
     "metadata": {},
     "output_type": "display_data"
    },
    {
     "data": {
      "text/html": [
       "Syncing run <strong><a href='https://wandb.ai/sharshe/EGNN/runs/ev0y3kox' target=\"_blank\">smooth-sun-6</a></strong> to <a href='https://wandb.ai/sharshe/EGNN' target=\"_blank\">Weights & Biases</a> (<a href='https://wandb.me/run' target=\"_blank\">docs</a>)<br/>"
      ],
      "text/plain": [
       "<IPython.core.display.HTML object>"
      ]
     },
     "metadata": {},
     "output_type": "display_data"
    },
    {
     "data": {
      "text/html": [
       " View project at <a href='https://wandb.ai/sharshe/EGNN' target=\"_blank\">https://wandb.ai/sharshe/EGNN</a>"
      ],
      "text/plain": [
       "<IPython.core.display.HTML object>"
      ]
     },
     "metadata": {},
     "output_type": "display_data"
    },
    {
     "data": {
      "text/html": [
       " View run at <a href='https://wandb.ai/sharshe/EGNN/runs/ev0y3kox' target=\"_blank\">https://wandb.ai/sharshe/EGNN/runs/ev0y3kox</a>"
      ],
      "text/plain": [
       "<IPython.core.display.HTML object>"
      ]
     },
     "metadata": {},
     "output_type": "display_data"
    },
    {
     "data": {
      "text/html": [
       "<button onClick=\"this.nextSibling.style.display='block';this.style.display='none';\">Display W&B run</button><iframe src='https://wandb.ai/sharshe/EGNN/runs/ev0y3kox?jupyter=true' style='border:none;width:100%;height:420px;display:none;'></iframe>"
      ],
      "text/plain": [
       "<wandb.sdk.wandb_run.Run at 0x128a04c90>"
      ]
     },
     "execution_count": 31,
     "metadata": {},
     "output_type": "execute_result"
    }
   ],
   "source": [
    "wandb.init(\n",
    "    project = \"EGNN\",\n",
    "    config = {\n",
    "        \"model\": \"2-layer GCNN\",\n",
    "        \"embed_dimension\": 8,\n",
    "        \"optimizer\": \"Adam\",\n",
    "        \"base_learning_rate\": 0.0001,\n",
    "        \"dataset\": \"MD17\",\n",
    "        \"scheduler\": \"ReduceLROnPlateau\",\n",
    "        \"epochs\": num_epochs\n",
    "    }\n",
    ")"
   ]
  },
  {
   "cell_type": "code",
   "execution_count": 32,
   "metadata": {},
   "outputs": [],
   "source": [
    "def CalcF_loss(F: Tensor, F_hat: Tensor) -> Tensor:\n",
    "        # average square of the magnitude of the difference between the predicted and actual force vectors on each atom\n",
    "        # also squared error, just a more complicated calculation\n",
    "        # multiplied by 1e8 so that the losses for F and E begin on the same OOM\n",
    "        F_error = F_hat - F\n",
    "        F_squared_error = torch.square(F_error)\n",
    "        F_atomwise_error_magnitudes = torch.sum(F_squared_error, dim=1)\n",
    "        F_loss = torch.div(torch.sum(F_squared_error), F.size()[0]) * 1e8\n",
    "        return F_loss"
   ]
  },
  {
   "cell_type": "code",
   "execution_count": 35,
   "metadata": {},
   "outputs": [
    {
     "name": "stdout",
     "output_type": "stream",
     "text": [
      "EPOCH 1 OF 1 | VAL MEAN LOSS: 0.7702529430389404\n"
     ]
    },
    {
     "name": "stderr",
     "output_type": "stream",
     "text": [
      "/usr/local/Caskroom/miniconda/base/envs/GDL/lib/python3.11/site-packages/torch/nn/modules/loss.py:535: UserWarning: Using a target size (torch.Size([79])) that is different to the input size (torch.Size([79, 1])). This will likely lead to incorrect results due to broadcasting. Please ensure they have the same size.\n",
      "  return F.mse_loss(input, target, reduction=self.reduction)\n"
     ]
    },
    {
     "name": "stdout",
     "output_type": "stream",
     "text": [
      "TEST MEAN LOSS: 0.7712029218673706\n"
     ]
    },
    {
     "data": {
      "text/html": [
       "W&B sync reduced upload amount by 12.6%             "
      ],
      "text/plain": [
       "<IPython.core.display.HTML object>"
      ]
     },
     "metadata": {},
     "output_type": "display_data"
    },
    {
     "data": {
      "text/html": [
       "<style>\n",
       "    table.wandb td:nth-child(1) { padding: 0 10px; text-align: left ; width: auto;} td:nth-child(2) {text-align: left ; width: 100%}\n",
       "    .wandb-row { display: flex; flex-direction: row; flex-wrap: wrap; justify-content: flex-start; width: 100% }\n",
       "    .wandb-col { display: flex; flex-direction: column; flex-basis: 100%; flex: 1; padding: 10px; }\n",
       "    </style>\n",
       "<div class=\"wandb-row\"><div class=\"wandb-col\"><h3>Run history:</h3><br/><table class=\"wandb\"><tr><td>E_train_losses</td><td>███████▇▆▅▅▄▄▃▃▃▃▂▂▂▂▂▂▁▁▁▁▁▁▁▁▁▁▁▁▁▁▁▁▁</td></tr><tr><td>F_train_losses</td><td>▁▁▁▁▁▁▁▆▂▁▁▁▂█▁▂▁▁▁▁▁▁▁▁▁▁▁▁▁▁▁▁▁▁▁▁▃▁▁▁</td></tr><tr><td>epoch_mean_E_loss</td><td>▁▁</td></tr><tr><td>epoch_mean_F_loss</td><td>▁▁</td></tr><tr><td>epoch_mean_loss</td><td>▁▁</td></tr><tr><td>test_mean_E_loss</td><td>▁</td></tr><tr><td>test_mean_F_loss</td><td>▁</td></tr><tr><td>test_mean_loss</td><td>▁</td></tr><tr><td>train_losses</td><td>▁▁▁▁▁▁▁▆▂▁▁▁▂█▁▂▁▁▁▁▁▁▁▁▁▁▁▁▁▁▁▁▁▁▁▁▃▁▁▁</td></tr><tr><td>training_rates</td><td>▁▁▁▁▁▁▁▁▁▁▁▁▁▁▁▁▁▁▁▁▁▁▁▁▁▁▁▁▁▁▁▁▁▁▁▁▁▁▁▁</td></tr></table><br/></div><div class=\"wandb-col\"><h3>Run summary:</h3><br/><table class=\"wandb\"><tr><td>E_train_losses</td><td>7e-05</td></tr><tr><td>F_train_losses</td><td>0.67965</td></tr><tr><td>epoch_mean_E_loss</td><td>7e-05</td></tr><tr><td>epoch_mean_F_loss</td><td>0.77019</td></tr><tr><td>epoch_mean_loss</td><td>0.77025</td></tr><tr><td>test_mean_E_loss</td><td>7e-05</td></tr><tr><td>test_mean_F_loss</td><td>0.77114</td></tr><tr><td>test_mean_loss</td><td>0.7712</td></tr><tr><td>train_losses</td><td>0.67973</td></tr><tr><td>training_rates</td><td>0.0001</td></tr></table><br/></div></div>"
      ],
      "text/plain": [
       "<IPython.core.display.HTML object>"
      ]
     },
     "metadata": {},
     "output_type": "display_data"
    },
    {
     "data": {
      "text/html": [
       " View run <strong style=\"color:#cdcd00\">smooth-sun-6</strong> at: <a href='https://wandb.ai/sharshe/EGNN/runs/ev0y3kox' target=\"_blank\">https://wandb.ai/sharshe/EGNN/runs/ev0y3kox</a><br/> View project at: <a href='https://wandb.ai/sharshe/EGNN' target=\"_blank\">https://wandb.ai/sharshe/EGNN</a><br/>Synced 6 W&B file(s), 0 media file(s), 2 artifact file(s) and 0 other file(s)"
      ],
      "text/plain": [
       "<IPython.core.display.HTML object>"
      ]
     },
     "metadata": {},
     "output_type": "display_data"
    },
    {
     "data": {
      "text/html": [
       "Find logs at: <code>./wandb/run-20240605_154646-ev0y3kox/logs</code>"
      ],
      "text/plain": [
       "<IPython.core.display.HTML object>"
      ]
     },
     "metadata": {},
     "output_type": "display_data"
    }
   ],
   "source": [
    "for epoch in range(num_epochs):\n",
    "    TRAINING\n",
    "    track gradients\n",
    "    model.train()\n",
    "    \n",
    "    i = 0\n",
    "    \n",
    "    # loop through loader\n",
    "    for data in train_loader:\n",
    "        # target values\n",
    "        E = data.energy\n",
    "        F = data.force\n",
    "        \n",
    "        # predictions from the model\n",
    "        E_hat, F_hat = model(data)\n",
    "        \n",
    "        # clear out the gradients from autograd (?)\n",
    "        # (not sure whether this is necessary anymore because I changed the code that calculates the force predictions, but I don't think it can hurt)\n",
    "        optimizer.zero_grad()\n",
    "\n",
    "        # squared error for energy loss\n",
    "        E_loss = loss_fn(E_hat, E)\n",
    "\n",
    "        # a version of squared error for force loss\n",
    "        F_loss = CalcF_loss(F_hat.view(-1), F.view(-1))\n",
    "        \n",
    "        # canonical loss\n",
    "        loss = F_loss + E_loss\n",
    "    \n",
    "        # calculate gradients\n",
    "        loss.backward()\n",
    "        \n",
    "        # update\n",
    "        optimizer.step()\n",
    "    \n",
    "        # clear gradients again for good measure\n",
    "        optimizer.zero_grad()\n",
    "        \n",
    "        # save loss every 100 goes\n",
    "        if i%100 == 0:\n",
    "            wandb.log({\"train_losses\": loss.item()})\n",
    "            wandb.log({\"E_train_losses\": E_loss.item()})\n",
    "            wandb.log({\"F_train_losses\": F_loss.item()})\n",
    "            \n",
    "            # save learning rate\n",
    "            lr = optimizer.param_groups[0]['lr']\n",
    "            wandb.log({\"training_rates\": lr})\n",
    "        i+=1\n",
    "        \n",
    "    \n",
    "    # VAL\n",
    "    epoch_losses = []\n",
    "    epoch_E_losses = []\n",
    "    epoch_F_losses = []\n",
    "    \n",
    "    # do not keep track of gradients\n",
    "    model.eval()\n",
    "    \n",
    "    # loop through val loader\n",
    "    for data in val_loader:\n",
    "        # target values\n",
    "        E = data.energy\n",
    "        F = data.force\n",
    "        \n",
    "        # predictions from the model\n",
    "        E_hat, F_hat = model(data)\n",
    "        \n",
    "        # clear out the gradients from autograd (?)\n",
    "        # (not sure whether this is necessary anymore because I changed the code that calculates the force predictions, but I don't think it can hurt)\n",
    "        optimizer.zero_grad()\n",
    "\n",
    "        # squared error for energy loss\n",
    "        E_loss = loss_fn(E_hat, E)\n",
    "        \n",
    "        # a version of squared error for force loss\n",
    "        F_loss = CalcF_loss(F_hat, F)\n",
    "        \n",
    "        # canonical loss\n",
    "        loss = F_loss + E_loss\n",
    "        \n",
    "        # track F_loss, E_loss, canonical loss\n",
    "        epoch_losses.append(loss.item())\n",
    "        epoch_E_losses.append(E_loss.item())\n",
    "        epoch_F_losses.append(F_loss.item())\n",
    "    \n",
    "    epoch_mean_loss = torch.mean(torch.tensor(epoch_losses)).item()\n",
    "    epoch_mean_E_loss = torch.mean(torch.tensor(epoch_E_losses)).item()\n",
    "    epoch_mean_F_loss = torch.mean(torch.tensor(epoch_F_losses)).item()\n",
    "    \n",
    "    val_mean_losses.append(epoch_mean_loss)\n",
    "    val_mean_E_losses.append(epoch_mean_E_loss)\n",
    "    val_mean_F_losses.append(epoch_mean_F_loss)\n",
    "    \n",
    "    wandb.log({\"epoch_mean_loss\": epoch_mean_loss})\n",
    "    wandb.log({\"epoch_mean_E_loss\": epoch_mean_E_loss})\n",
    "    wandb.log({\"epoch_mean_F_loss\": epoch_mean_F_loss})\n",
    "    \n",
    "    # print out the results of the epoch\n",
    "    print(f'EPOCH {epoch+1} OF {num_epochs} | VAL MEAN LOSS: {epoch_mean_loss}')\n",
    "    \n",
    "    # if this is our best val performance yet, save the weights\n",
    "    if min(val_mean_losses) == epoch_mean_loss:\n",
    "        torch.save(model, 'weights/toy_EGNN.pth')\n",
    "        \n",
    "    scheduler.step(epoch_mean_loss)\n",
    "\n",
    "# TEST\n",
    "for data in test_loader:\n",
    "    # target values\n",
    "    E = data.energy\n",
    "    F = data.force\n",
    "    \n",
    "    # predictions from the model\n",
    "    E_hat, F_hat = model(data)\n",
    "    \n",
    "    # clear out the gradients from autograd (?)\n",
    "    # (not sure whether this is necessary anymore because I changed the code that calculates the force predictions, but I don't think it can hurt)\n",
    "    optimizer.zero_grad()\n",
    "\n",
    "    # squared error for energy loss\n",
    "    E_loss = loss_fn(E_hat, E)\n",
    "    \n",
    "    # a version of squared error for force loss\n",
    "    F_loss = CalcF_loss(F_hat, F)\n",
    "    \n",
    "    # canonical loss\n",
    "    loss = F_loss + E_loss\n",
    "    \n",
    "    # save losses\n",
    "    test_losses.append(loss.item())\n",
    "    test_E_losses.append(E_loss.item())\n",
    "    test_F_losses.append(F_loss.item())\n",
    "\n",
    "# save and print mean test loss\n",
    "test_mean_loss = torch.mean(torch.tensor(test_losses)).item()\n",
    "test_mean_E_loss = torch.mean(torch.tensor(test_E_losses)).item()\n",
    "test_mean_F_loss = torch.mean(torch.tensor(test_F_losses)).item()\n",
    "\n",
    "wandb.log({\"test_mean_loss\": test_mean_loss})\n",
    "wandb.log({\"test_mean_E_loss\": test_mean_E_loss})\n",
    "wandb.log({\"test_mean_F_loss\": test_mean_F_loss})\n",
    "\n",
    "print(f'TEST MEAN LOSS: {test_mean_loss}')\n",
    "\n",
    "wandb.finish()"
   ]
  },
  {
   "cell_type": "code",
   "execution_count": 37,
   "metadata": {},
   "outputs": [],
   "source": [
    "data = train_dataset[0]"
   ]
  },
  {
   "cell_type": "code",
   "execution_count": 38,
   "metadata": {},
   "outputs": [],
   "source": [
    "E_hat, F_hat = model(data)"
   ]
  },
  {
   "cell_type": "code",
   "execution_count": 40,
   "metadata": {},
   "outputs": [
    {
     "name": "stdout",
     "output_type": "stream",
     "text": [
      "tensor([[ 1.4450e-04, -5.4219e-06, -2.6049e-05],\n",
      "        [-1.1722e-04,  4.0329e-05,  2.9376e-06],\n",
      "        [-4.2287e-06, -7.1831e-05, -3.1632e-05],\n",
      "        [ 4.5677e-05,  7.7480e-05,  5.2616e-05],\n",
      "        [-3.8878e-05, -9.1347e-05, -2.6461e-05],\n",
      "        [ 2.2421e-06,  4.5081e-05, -2.8685e-05],\n",
      "        [ 6.1412e-06,  5.6802e-05, -2.6758e-06],\n",
      "        [-1.2903e-05, -3.2683e-05, -7.0144e-07],\n",
      "        [ 4.6507e-06,  2.8377e-05,  2.6073e-05],\n",
      "        [ 6.3945e-06, -4.1892e-05, -3.3723e-06],\n",
      "        [ 4.5682e-05,  4.0348e-05,  5.4611e-06],\n",
      "        [-8.2055e-05, -4.5241e-05,  3.2487e-05]])\n",
      "tensor([[-4.9841e-06, -2.0859e-06, -2.1329e-06],\n",
      "        [ 1.3823e-06,  1.7118e-06,  9.9114e-07],\n",
      "        [ 4.5945e-06, -3.4423e-06, -3.7060e-06],\n",
      "        [ 2.5680e-06,  1.8788e-06,  4.3330e-06],\n",
      "        [-2.7541e-06, -1.5846e-06, -7.1490e-06],\n",
      "        [-6.4554e-06, -1.1896e-06,  5.2323e-07],\n",
      "        [-1.0568e-05,  1.2414e-05, -5.6979e-06],\n",
      "        [ 4.8518e-06,  1.4566e-05, -1.2702e-05],\n",
      "        [ 1.5571e-05,  6.8539e-06,  8.9764e-07],\n",
      "        [ 1.1238e-05, -1.0933e-05,  6.9309e-06],\n",
      "        [-2.8045e-06, -1.4545e-05,  1.5063e-05],\n",
      "        [-1.2640e-05, -3.6442e-06,  2.6490e-06]], grad_fn=<NegBackward0>)\n",
      "tensor([[-1.4948e-04,  3.3360e-06,  2.3916e-05],\n",
      "        [ 1.1861e-04, -3.8617e-05, -1.9464e-06],\n",
      "        [ 8.8231e-06,  6.8389e-05,  2.7926e-05],\n",
      "        [-4.3109e-05, -7.5601e-05, -4.8283e-05],\n",
      "        [ 3.6124e-05,  8.9763e-05,  1.9312e-05],\n",
      "        [-8.6974e-06, -4.6270e-05,  2.9208e-05],\n",
      "        [-1.6709e-05, -4.4387e-05, -3.0221e-06],\n",
      "        [ 1.7755e-05,  4.7250e-05, -1.2001e-05],\n",
      "        [ 1.0920e-05, -2.1523e-05, -2.5175e-05],\n",
      "        [ 4.8436e-06,  3.0958e-05,  1.0303e-05],\n",
      "        [-4.8486e-05, -5.4894e-05,  9.6018e-06],\n",
      "        [ 6.9415e-05,  4.1597e-05, -2.9838e-05]], grad_fn=<SubBackward0>)\n"
     ]
    }
   ],
   "source": [
    "print(data.force)\n",
    "print(F_hat)\n",
    "print(F_hat - data.force)"
   ]
  },
  {
   "cell_type": "code",
   "execution_count": null,
   "metadata": {},
   "outputs": [],
   "source": []
  }
 ],
 "metadata": {
  "kernelspec": {
   "display_name": "GDL",
   "language": "python",
   "name": "python3"
  },
  "language_info": {
   "codemirror_mode": {
    "name": "ipython",
    "version": 3
   },
   "file_extension": ".py",
   "mimetype": "text/x-python",
   "name": "python",
   "nbconvert_exporter": "python",
   "pygments_lexer": "ipython3",
   "version": "3.11.8"
  }
 },
 "nbformat": 4,
 "nbformat_minor": 2
}
