{
 "cells": [
  {
   "cell_type": "code",
   "execution_count": 182,
   "metadata": {},
   "outputs": [],
   "source": [
    "import torch\n",
    "from torch import Tensor\n",
    "\n",
    "from torch_geometric.datasets import MD17\n",
    "\n",
    "from torch.nn import Module, Embedding, Linear, MSELoss, LeakyReLU, SiLU\n",
    "from torch_geometric.nn import global_add_pool\n",
    "from torch_geometric.nn.conv import MessagePassing\n",
    "from torch_geometric.data import Data\n",
    "\n",
    "from torch.optim import Adam\n",
    "import torch.optim.lr_scheduler as lr_scheduler\n",
    "from torch_geometric.loader import DataLoader\n",
    "\n",
    "import numpy as np\n",
    "\n",
    "import wandb"
   ]
  },
  {
   "cell_type": "code",
   "execution_count": 183,
   "metadata": {},
   "outputs": [
    {
     "name": "stderr",
     "output_type": "stream",
     "text": [
      "/usr/local/Caskroom/miniconda/base/envs/GDL/lib/python3.11/site-packages/torch_geometric/data/dataset.py:239: UserWarning: The `pre_transform` argument differs from the one used in the pre-processed version of this dataset. If you want to make use of another pre-processing technique, pass `force_reload=True` explicitly to reload the dataset.\n",
      "  warnings.warn(\n"
     ]
    }
   ],
   "source": [
    "# load in dataset\n",
    "dataset = MD17(root='../../data/EGNN2/benzene', name='benzene', pre_transform=None, transform=None)\n",
    "\n",
    "# 80/10/10 split\n",
    "train_size = int(0.8 * len(dataset))\n",
    "val_size = int(0.1 * len(dataset))\n",
    "test_size = len(dataset) - train_size - val_size\n",
    "\n",
    "# build train, val, test datasets out of main dataset\n",
    "train_dataset, val_dataset, test_dataset = torch.utils.data.random_split(dataset, [train_size, val_size, test_size])\n",
    "\n",
    "# turn into DataLoaders for batching efficiency\n",
    "train_loader = DataLoader(train_dataset, batch_size=128)\n",
    "val_loader = DataLoader(val_dataset, batch_size=128)\n",
    "test_loader = DataLoader(test_dataset, batch_size=128)"
   ]
  },
  {
   "cell_type": "code",
   "execution_count": 184,
   "metadata": {},
   "outputs": [],
   "source": [
    "class EGNN2(MessagePassing):\n",
    "    def __init__(self):\n",
    "        super().__init__()\n",
    "        \n",
    "        self.embedding = Embedding(118,32)\n",
    "        \n",
    "        self.message_lin = Linear(32 + 8, 32)\n",
    "        self.update_lin = Linear(32 + 32, 32)\n",
    "        \n",
    "        self.compress_lin = Linear(32, 1)\n",
    "        \n",
    "    def forward(self, data):\n",
    "        edge_index = data.edge_index\n",
    "        z = data.z\n",
    "        pos = data.pos\n",
    "        pos.requires_grad_(True)\n",
    "        \n",
    "        idx1, idx2 = edge_index\n",
    "        edge_distance = torch.norm(pos[idx1] - pos[idx2], p=2, dim=-1).view(-1, 1)\n",
    "        gaussian_edge_attr = gaussian_rbf(edge_distance)\n",
    "        \n",
    "        E_hat = self.embedding(z)\n",
    "        \n",
    "        E_hat = self.propagate(edge_index, x=E_hat, edge_attr=gaussian_edge_attr)\n",
    "        \n",
    "        E_hat = self.compress_lin(E_hat)\n",
    "                \n",
    "        E_hat = global_add_pool(E_hat, data.batch)\n",
    "        \n",
    "        F_hat = -torch.autograd.grad(E_hat.sum(), pos, retain_graph=True)[0]\n",
    "        \n",
    "        return E_hat, F_hat\n",
    "    \n",
    "    def message(self, x_j, edge_attr):\n",
    "        lin_in = torch.cat((x_j, edge_attr), dim=1).float()\n",
    "        \n",
    "        out = self.message_lin(lin_in)\n",
    "        \n",
    "        return out\n",
    "    \n",
    "    def update(self, aggr_out, x):\n",
    "        lin_in = torch.cat((aggr_out, x), dim=1).float()\n",
    "        \n",
    "        return self.update_lin(lin_in)"
   ]
  },
  {
   "cell_type": "code",
   "execution_count": 185,
   "metadata": {},
   "outputs": [],
   "source": [
    "def gaussian_rbf(x: Tensor) -> Tensor:\n",
    "    cs = torch.tensor(np.arange(0,1.6,0.2))\n",
    "    return torch.exp(torch.square((x - cs)) / -.005).float()"
   ]
  },
  {
   "cell_type": "code",
   "execution_count": 186,
   "metadata": {},
   "outputs": [],
   "source": [
    "model = EGNN2()\n",
    "\n",
    "base_learning_rate = 0.0001\n",
    "num_epochs = 10\n",
    "\n",
    "optimizer = Adam(model.parameters(), base_learning_rate)\n",
    "scheduler = lr_scheduler.ReduceLROnPlateau(optimizer=optimizer, mode='min', factor=0.1, patience=1, threshold=0)\n",
    "loss_fn = MSELoss()\n",
    "\n",
    "val_mean_losses = []\n",
    "val_mean_E_losses = []\n",
    "val_mean_F_losses = []\n",
    "\n",
    "test_losses = []\n",
    "test_E_losses = []\n",
    "test_F_losses = []\n",
    "\n",
    "learning_rates = [base_learning_rate]"
   ]
  },
  {
   "cell_type": "code",
   "execution_count": 187,
   "metadata": {},
   "outputs": [],
   "source": [
    "def CalcF_loss(F: Tensor, F_hat: Tensor) -> Tensor:\n",
    "        # average square of the magnitude of the difference between the predicted and actual force vectors on each atom\n",
    "        # also squared error, just a more complicated calculation\n",
    "        # multiplied by 100 so that the losses for F and E begin on the same OOM\n",
    "        F_error = F_hat - F\n",
    "        F_squared_error = torch.square(F_error)\n",
    "        F_atomwise_error_magnitudes = torch.sum(F_squared_error, dim=1)\n",
    "        F_loss = torch.div(torch.sum(F_squared_error), F.size()[0]) * 100\n",
    "        return F_loss"
   ]
  },
  {
   "cell_type": "code",
   "execution_count": 188,
   "metadata": {},
   "outputs": [
    {
     "data": {
      "text/html": [
       "Finishing last run (ID:y52h4jpo) before initializing another..."
      ],
      "text/plain": [
       "<IPython.core.display.HTML object>"
      ]
     },
     "metadata": {},
     "output_type": "display_data"
    },
    {
     "data": {
      "text/html": [
       "<style>\n",
       "    table.wandb td:nth-child(1) { padding: 0 10px; text-align: left ; width: auto;} td:nth-child(2) {text-align: left ; width: 100%}\n",
       "    .wandb-row { display: flex; flex-direction: row; flex-wrap: wrap; justify-content: flex-start; width: 100% }\n",
       "    .wandb-col { display: flex; flex-direction: column; flex-basis: 100%; flex: 1; padding: 10px; }\n",
       "    </style>\n",
       "<div class=\"wandb-row\"><div class=\"wandb-col\"><h3>Run history:</h3><br/><table class=\"wandb\"><tr><td>E_train_losses</td><td>█▁▁▁▁▁▁▁▁▁▁</td></tr><tr><td>F_train_losses</td><td>█▆▄▃▂▁▁▁▁▁▁</td></tr><tr><td>train_losses</td><td>█▆▄▃▂▁▁▁▁▁▁</td></tr><tr><td>training_rates</td><td>▁▁▁▁▁▁▁▁▁▁▁</td></tr></table><br/></div><div class=\"wandb-col\"><h3>Run summary:</h3><br/><table class=\"wandb\"><tr><td>E_train_losses</td><td>0.0</td></tr><tr><td>F_train_losses</td><td>103405.40625</td></tr><tr><td>train_losses</td><td>103405.40625</td></tr><tr><td>training_rates</td><td>0.0001</td></tr></table><br/></div></div>"
      ],
      "text/plain": [
       "<IPython.core.display.HTML object>"
      ]
     },
     "metadata": {},
     "output_type": "display_data"
    },
    {
     "data": {
      "text/html": [
       " View run <strong style=\"color:#cdcd00\">exalted-resonance-15</strong> at: <a href='https://wandb.ai/sharshe/EGNN/runs/y52h4jpo' target=\"_blank\">https://wandb.ai/sharshe/EGNN/runs/y52h4jpo</a><br/> View project at: <a href='https://wandb.ai/sharshe/EGNN' target=\"_blank\">https://wandb.ai/sharshe/EGNN</a><br/>Synced 6 W&B file(s), 0 media file(s), 0 artifact file(s) and 0 other file(s)"
      ],
      "text/plain": [
       "<IPython.core.display.HTML object>"
      ]
     },
     "metadata": {},
     "output_type": "display_data"
    },
    {
     "data": {
      "text/html": [
       "Find logs at: <code>./wandb/run-20240613_220658-y52h4jpo/logs</code>"
      ],
      "text/plain": [
       "<IPython.core.display.HTML object>"
      ]
     },
     "metadata": {},
     "output_type": "display_data"
    },
    {
     "data": {
      "text/html": [
       "Successfully finished last run (ID:y52h4jpo). Initializing new run:<br/>"
      ],
      "text/plain": [
       "<IPython.core.display.HTML object>"
      ]
     },
     "metadata": {},
     "output_type": "display_data"
    },
    {
     "data": {
      "text/html": [
       "wandb version 0.17.1 is available!  To upgrade, please run:\n",
       " $ pip install wandb --upgrade"
      ],
      "text/plain": [
       "<IPython.core.display.HTML object>"
      ]
     },
     "metadata": {},
     "output_type": "display_data"
    },
    {
     "data": {
      "text/html": [
       "Tracking run with wandb version 0.17.0"
      ],
      "text/plain": [
       "<IPython.core.display.HTML object>"
      ]
     },
     "metadata": {},
     "output_type": "display_data"
    },
    {
     "data": {
      "text/html": [
       "Run data is saved locally in <code>/Users/samharshe/Documents/Gerstein Lab/EGNN/model/script/wandb/run-20240613_220753-us1gkc26</code>"
      ],
      "text/plain": [
       "<IPython.core.display.HTML object>"
      ]
     },
     "metadata": {},
     "output_type": "display_data"
    },
    {
     "data": {
      "text/html": [
       "Syncing run <strong><a href='https://wandb.ai/sharshe/EGNN/runs/us1gkc26' target=\"_blank\">solar-cloud-16</a></strong> to <a href='https://wandb.ai/sharshe/EGNN' target=\"_blank\">Weights & Biases</a> (<a href='https://wandb.me/run' target=\"_blank\">docs</a>)<br/>"
      ],
      "text/plain": [
       "<IPython.core.display.HTML object>"
      ]
     },
     "metadata": {},
     "output_type": "display_data"
    },
    {
     "data": {
      "text/html": [
       " View project at <a href='https://wandb.ai/sharshe/EGNN' target=\"_blank\">https://wandb.ai/sharshe/EGNN</a>"
      ],
      "text/plain": [
       "<IPython.core.display.HTML object>"
      ]
     },
     "metadata": {},
     "output_type": "display_data"
    },
    {
     "data": {
      "text/html": [
       " View run at <a href='https://wandb.ai/sharshe/EGNN/runs/us1gkc26' target=\"_blank\">https://wandb.ai/sharshe/EGNN/runs/us1gkc26</a>"
      ],
      "text/plain": [
       "<IPython.core.display.HTML object>"
      ]
     },
     "metadata": {},
     "output_type": "display_data"
    },
    {
     "data": {
      "text/html": [
       "<button onClick=\"this.nextSibling.style.display='block';this.style.display='none';\">Display W&B run</button><iframe src='https://wandb.ai/sharshe/EGNN/runs/us1gkc26?jupyter=true' style='border:none;width:100%;height:420px;display:none;'></iframe>"
      ],
      "text/plain": [
       "<wandb.sdk.wandb_run.Run at 0x1565df590>"
      ]
     },
     "execution_count": 188,
     "metadata": {},
     "output_type": "execute_result"
    }
   ],
   "source": [
    "wandb.init(\n",
    "    project = \"EGNN\",\n",
    "    config = {\n",
    "        \"model\": \"RBF EGNN\",\n",
    "        \"embed_dimension\": 32,\n",
    "        \"optimizer\": \"Adam\",\n",
    "        \"base_learning_rate\": 0.0001,\n",
    "        \"dataset\": \"MD17\",\n",
    "        \"scheduler\": \"ReduceLROnPlateau\",\n",
    "        \"epochs\": num_epochs\n",
    "    }\n",
    ")"
   ]
  },
  {
   "cell_type": "code",
   "execution_count": 189,
   "metadata": {},
   "outputs": [
    {
     "name": "stderr",
     "output_type": "stream",
     "text": [
      "/usr/local/Caskroom/miniconda/base/envs/GDL/lib/python3.11/site-packages/torch/nn/modules/loss.py:535: UserWarning: Using a target size (torch.Size([128])) that is different to the input size (torch.Size([128, 1])). This will likely lead to incorrect results due to broadcasting. Please ensure they have the same size.\n",
      "  return F.mse_loss(input, target, reduction=self.reduction)\n",
      "/usr/local/Caskroom/miniconda/base/envs/GDL/lib/python3.11/site-packages/torch/nn/modules/loss.py:535: UserWarning: Using a target size (torch.Size([114])) that is different to the input size (torch.Size([114, 1])). This will likely lead to incorrect results due to broadcasting. Please ensure they have the same size.\n",
      "  return F.mse_loss(input, target, reduction=self.reduction)\n",
      "/usr/local/Caskroom/miniconda/base/envs/GDL/lib/python3.11/site-packages/torch/nn/modules/loss.py:535: UserWarning: Using a target size (torch.Size([78])) that is different to the input size (torch.Size([78, 1])). This will likely lead to incorrect results due to broadcasting. Please ensure they have the same size.\n",
      "  return F.mse_loss(input, target, reduction=self.reduction)\n"
     ]
    },
    {
     "name": "stdout",
     "output_type": "stream",
     "text": [
      "EPOCH 1 OF 10 | VAL MEAN LOSS: 0.011949259787797928\n",
      "EPOCH 2 OF 10 | VAL MEAN LOSS: 1.244987515747198e-06\n",
      "EPOCH 3 OF 10 | VAL MEAN LOSS: 0.0008091051713563502\n",
      "EPOCH 4 OF 10 | VAL MEAN LOSS: 3.4829427022486925e-05\n",
      "EPOCH 5 OF 10 | VAL MEAN LOSS: 9.100762667912932e-07\n",
      "EPOCH 6 OF 10 | VAL MEAN LOSS: 7.077346708683763e-06\n",
      "EPOCH 7 OF 10 | VAL MEAN LOSS: 1.6483418221469037e-06\n",
      "EPOCH 8 OF 10 | VAL MEAN LOSS: 9.278430752601707e-07\n",
      "EPOCH 9 OF 10 | VAL MEAN LOSS: 1.006949332804652e-06\n",
      "EPOCH 10 OF 10 | VAL MEAN LOSS: 9.248040555576154e-07\n"
     ]
    },
    {
     "name": "stderr",
     "output_type": "stream",
     "text": [
      "/usr/local/Caskroom/miniconda/base/envs/GDL/lib/python3.11/site-packages/torch/nn/modules/loss.py:535: UserWarning: Using a target size (torch.Size([79])) that is different to the input size (torch.Size([79, 1])). This will likely lead to incorrect results due to broadcasting. Please ensure they have the same size.\n",
      "  return F.mse_loss(input, target, reduction=self.reduction)\n"
     ]
    },
    {
     "name": "stdout",
     "output_type": "stream",
     "text": [
      "TEST MEAN LOSS: 1.0036715138994623e-06\n"
     ]
    },
    {
     "data": {
      "text/html": [
       "<style>\n",
       "    table.wandb td:nth-child(1) { padding: 0 10px; text-align: left ; width: auto;} td:nth-child(2) {text-align: left ; width: 100%}\n",
       "    .wandb-row { display: flex; flex-direction: row; flex-wrap: wrap; justify-content: flex-start; width: 100% }\n",
       "    .wandb-col { display: flex; flex-direction: column; flex-basis: 100%; flex: 1; padding: 10px; }\n",
       "    </style>\n",
       "<div class=\"wandb-row\"><div class=\"wandb-col\"><h3>Run history:</h3><br/><table class=\"wandb\"><tr><td>E_train_losses</td><td>█▃▁▁▁▁▁▁▁▁▁▁▁▁▁▁▁▁▁▁▁▁▁▁▁▁▁▁▁▁▁▁▁▁▁▁▁▁▁▁</td></tr><tr><td>F_train_losses</td><td>█▄▁▁▁▁▁▁▁▁▁▁▁▁▁▁▁▁▁▁▁▁▁▁▁▁▁▁▁▁▁▁▁▁▁▁▁▁▁▁</td></tr><tr><td>epoch_mean_E_loss</td><td>▁▁█▁▁▁▁▁▁▁</td></tr><tr><td>epoch_mean_F_loss</td><td>█▁▁▁▁▁▁▁▁▁</td></tr><tr><td>epoch_mean_loss</td><td>█▁▁▁▁▁▁▁▁▁</td></tr><tr><td>test_mean_E_loss</td><td>▁</td></tr><tr><td>test_mean_F_loss</td><td>▁</td></tr><tr><td>test_mean_loss</td><td>▁</td></tr><tr><td>train_losses</td><td>█▄▁▁▁▁▁▁▁▁▁▁▁▁▁▁▁▁▁▁▁▁▁▁▁▁▁▁▁▁▁▁▁▁▁▁▁▁▁▁</td></tr><tr><td>training_rates</td><td>████████████████▂▂▂▂▂▂▂▂▂▂▂▂▁▁▁▁▁▁▁▁▁▁▁▁</td></tr></table><br/></div><div class=\"wandb-col\"><h3>Run summary:</h3><br/><table class=\"wandb\"><tr><td>E_train_losses</td><td>0.0</td></tr><tr><td>F_train_losses</td><td>0.0</td></tr><tr><td>epoch_mean_E_loss</td><td>0.0</td></tr><tr><td>epoch_mean_F_loss</td><td>0.0</td></tr><tr><td>epoch_mean_loss</td><td>0.0</td></tr><tr><td>test_mean_E_loss</td><td>0.0</td></tr><tr><td>test_mean_F_loss</td><td>0.0</td></tr><tr><td>test_mean_loss</td><td>0.0</td></tr><tr><td>train_losses</td><td>0.0</td></tr><tr><td>training_rates</td><td>0.0</td></tr></table><br/></div></div>"
      ],
      "text/plain": [
       "<IPython.core.display.HTML object>"
      ]
     },
     "metadata": {},
     "output_type": "display_data"
    },
    {
     "data": {
      "text/html": [
       " View run <strong style=\"color:#cdcd00\">solar-cloud-16</strong> at: <a href='https://wandb.ai/sharshe/EGNN/runs/us1gkc26' target=\"_blank\">https://wandb.ai/sharshe/EGNN/runs/us1gkc26</a><br/> View project at: <a href='https://wandb.ai/sharshe/EGNN' target=\"_blank\">https://wandb.ai/sharshe/EGNN</a><br/>Synced 6 W&B file(s), 0 media file(s), 0 artifact file(s) and 0 other file(s)"
      ],
      "text/plain": [
       "<IPython.core.display.HTML object>"
      ]
     },
     "metadata": {},
     "output_type": "display_data"
    },
    {
     "data": {
      "text/html": [
       "Find logs at: <code>./wandb/run-20240613_220753-us1gkc26/logs</code>"
      ],
      "text/plain": [
       "<IPython.core.display.HTML object>"
      ]
     },
     "metadata": {},
     "output_type": "display_data"
    }
   ],
   "source": [
    "for epoch in range(num_epochs):\n",
    "    # TRAINING\n",
    "    # track gradients\n",
    "    model.train()\n",
    "    \n",
    "    i = 0\n",
    "    \n",
    "    # loop through loader\n",
    "    for data in train_loader:\n",
    "        # clear gradients again for good measure\n",
    "        optimizer.zero_grad()\n",
    "\n",
    "        # target values\n",
    "        E = data.energy\n",
    "        F = data.force\n",
    "        \n",
    "        # predictions from the model\n",
    "        E_hat, F_hat = model(data)\n",
    "        \n",
    "        # squared error for energy loss\n",
    "        E_loss = loss_fn(E_hat, E)\n",
    "\n",
    "        # a version of squared error for force loss\n",
    "        F_loss = CalcF_loss(F_hat, F)\n",
    "        \n",
    "        # canonical loss\n",
    "        loss = F_loss + E_loss\n",
    "    \n",
    "        # calculate gradients\n",
    "        loss.backward()\n",
    "        \n",
    "        # update\n",
    "        optimizer.step()\n",
    "        \n",
    "        # save loss every 100 goes\n",
    "        if i%100 == 0:\n",
    "            wandb.log({\"train_losses\": loss.item()})\n",
    "            wandb.log({\"E_train_losses\": E_loss.item()})\n",
    "            wandb.log({\"F_train_losses\": F_loss.item()})\n",
    "            \n",
    "            # save learning rate\n",
    "            lr = optimizer.param_groups[0]['lr']\n",
    "            wandb.log({\"training_rates\": lr})\n",
    "        i+=1\n",
    "        \n",
    "    \n",
    "    # VAL\n",
    "    epoch_losses = []\n",
    "    epoch_E_losses = []\n",
    "    epoch_F_losses = []\n",
    "    \n",
    "    # do not track gradients\n",
    "    model.eval()\n",
    "    \n",
    "    # loop through val loader\n",
    "    for data in val_loader:\n",
    "        # target values\n",
    "        E = data.energy\n",
    "        F = data.force\n",
    "        \n",
    "        # predictions from the model\n",
    "        E_hat, F_hat = model(data)\n",
    "        \n",
    "        # squared error for energy loss\n",
    "        E_loss = loss_fn(E_hat, E)\n",
    "        \n",
    "        # a version of squared error for force loss\n",
    "        F_loss = CalcF_loss(F_hat, F)\n",
    "        \n",
    "        # canonical loss\n",
    "        loss = F_loss + E_loss\n",
    "        \n",
    "        # track F_loss, E_loss, canonical loss\n",
    "        epoch_losses.append(loss.item())\n",
    "        epoch_E_losses.append(E_loss.item())\n",
    "        epoch_F_losses.append(F_loss.item())\n",
    "    \n",
    "    epoch_mean_loss = torch.mean(torch.tensor(epoch_losses)).item()\n",
    "    epoch_mean_E_loss = torch.mean(torch.tensor(epoch_E_losses)).item()\n",
    "    epoch_mean_F_loss = torch.mean(torch.tensor(epoch_F_losses)).item()\n",
    "    \n",
    "    val_mean_losses.append(epoch_mean_loss)\n",
    "    val_mean_E_losses.append(epoch_mean_E_loss)\n",
    "    val_mean_F_losses.append(epoch_mean_F_loss)\n",
    "    \n",
    "    wandb.log({\"epoch_mean_loss\": epoch_mean_loss})\n",
    "    wandb.log({\"epoch_mean_E_loss\": epoch_mean_E_loss})\n",
    "    wandb.log({\"epoch_mean_F_loss\": epoch_mean_F_loss})\n",
    "    \n",
    "    # print out the results of the epoch\n",
    "    print(f'EPOCH {epoch+1} OF {num_epochs} | VAL MEAN LOSS: {epoch_mean_loss}')\n",
    "    \n",
    "    # if this is our best val performance yet, save the weights\n",
    "    if min(val_mean_losses) == epoch_mean_loss:\n",
    "        torch.save(model, '../weights/EGNN2.pth')\n",
    "        \n",
    "    scheduler.step(epoch_mean_loss)\n",
    "\n",
    "# TEST\n",
    "for data in test_loader:\n",
    "    # target values\n",
    "    E = data.energy\n",
    "    F = data.force\n",
    "    \n",
    "    # predictions from the model\n",
    "    E_hat, F_hat = model(data)\n",
    "    \n",
    "    # squared error for energy loss\n",
    "    E_loss = loss_fn(E_hat, E)\n",
    "    \n",
    "    # a version of squared error for force loss\n",
    "    F_loss = CalcF_loss(F_hat, F)\n",
    "    \n",
    "    # canonical loss\n",
    "    loss = F_loss + E_loss\n",
    "    \n",
    "    # save losses\n",
    "    test_losses.append(loss.item())\n",
    "    test_E_losses.append(E_loss.item())\n",
    "    test_F_losses.append(F_loss.item())\n",
    "\n",
    "# save and print mean test loss\n",
    "test_mean_loss = torch.mean(torch.tensor(test_losses)).item()\n",
    "test_mean_E_loss = torch.mean(torch.tensor(test_E_losses)).item()\n",
    "test_mean_F_loss = torch.mean(torch.tensor(test_F_losses)).item()\n",
    "\n",
    "wandb.log({\"test_mean_loss\": test_mean_loss})\n",
    "wandb.log({\"test_mean_E_loss\": test_mean_E_loss})\n",
    "wandb.log({\"test_mean_F_loss\": test_mean_F_loss})\n",
    "\n",
    "print(f'TEST MEAN LOSS: {test_mean_loss}')\n",
    "\n",
    "wandb.finish()"
   ]
  },
  {
   "cell_type": "code",
   "execution_count": 191,
   "metadata": {},
   "outputs": [],
   "source": [
    "wandb.finish()"
   ]
  }
 ],
 "metadata": {
  "kernelspec": {
   "display_name": "GDL",
   "language": "python",
   "name": "python3"
  },
  "language_info": {
   "codemirror_mode": {
    "name": "ipython",
    "version": 3
   },
   "file_extension": ".py",
   "mimetype": "text/x-python",
   "name": "python",
   "nbconvert_exporter": "python",
   "pygments_lexer": "ipython3",
   "version": "3.11.8"
  }
 },
 "nbformat": 4,
 "nbformat_minor": 2
}
