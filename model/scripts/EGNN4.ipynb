{
 "cells": [
  {
   "cell_type": "code",
   "execution_count": 1,
   "metadata": {},
   "outputs": [],
   "source": [
    "import torch\n",
    "from torch import Tensor\n",
    "\n",
    "import os\n",
    "\n",
    "from torch_geometric.datasets import MD17\n",
    "\n",
    "from torch.nn import Embedding, Linear, MSELoss, SiLU\n",
    "from torch_geometric.nn import global_add_pool\n",
    "from torch_geometric.nn.conv import MessagePassing\n",
    "\n",
    "from gaussian_rbf import gaussian_rbf\n",
    "from losses import CalcF_squared_loss, CalcF_absolute_loss\n",
    "\n",
    "from torch.optim import Adam\n",
    "import torch.optim.lr_scheduler as lr_scheduler\n",
    "from torch_geometric.loader import DataLoader\n",
    "\n",
    "import wandb"
   ]
  },
  {
   "cell_type": "code",
   "execution_count": 2,
   "metadata": {},
   "outputs": [
    {
     "name": "stderr",
     "output_type": "stream",
     "text": [
      "\u001b[34m\u001b[1mwandb\u001b[0m: Currently logged in as: \u001b[33msharshe\u001b[0m. Use \u001b[1m`wandb login --relogin`\u001b[0m to force relogin\n"
     ]
    },
    {
     "data": {
      "text/plain": [
       "<torch._C.Generator at 0x10da24030>"
      ]
     },
     "execution_count": 2,
     "metadata": {},
     "output_type": "execute_result"
    }
   ],
   "source": [
    "# setting up wandb\n",
    "os.environ['WANDB_NOTEBOOK_NAME'] = 'EGNN4.ipynb'\n",
    "wandb.login()\n",
    "\n",
    "# reproducibility\n",
    "torch.manual_seed(2002)"
   ]
  },
  {
   "cell_type": "code",
   "execution_count": 3,
   "metadata": {},
   "outputs": [],
   "source": [
    "class EGNN4(MessagePassing):\n",
    "    def __init__(self):\n",
    "        super().__init__()\n",
    "        \n",
    "        # activation function\n",
    "        self.act = SiLU()\n",
    "        \n",
    "        # initialize layers\n",
    "        # 118 atomic numbers into 32-dimensional space\n",
    "        self.embedding = Embedding(118,64)\n",
    "        \n",
    "        # 64 dimensions for the embedding of the neighbor\n",
    "        # 8 for the embedding of the distance\n",
    "        self.message_lin = Linear(64 + 8, 64)\n",
    "        \n",
    "        # 64 dimensions for the current node embedding\n",
    "        # 64 for the message\n",
    "        self.update_lin = Linear(64 + 64, 64)\n",
    "        \n",
    "        # 64 dimensions for the embedding in and out\n",
    "        self.atomwise_lin1 = Linear(64, 64)\n",
    "        self.atomwise_lin2 = Linear(64, 64)\n",
    "        self.atomwise_lin3 = Linear(64, 64)\n",
    "        \n",
    "        # compress the 32-dimensional node embedding to 1 dimension\n",
    "        self.compress_lin1 = Linear(64, 8)\n",
    "        self.compress_lin2 = Linear(8, 1)\n",
    "        \n",
    "    def forward(self, data):\n",
    "        # get attributes out of data object\n",
    "        edge_index = data.edge_index\n",
    "        z = data.z\n",
    "        pos = data.pos\n",
    "        \n",
    "        # force is the negative gradient of energy with respect to position, so pos must be on the computational graph\n",
    "        pos.requires_grad_(True)\n",
    "        \n",
    "        # calculate edge distances and turn them into a vector through Gaussian RBF\n",
    "        idx1, idx2 = edge_index\n",
    "        edge_attr = torch.norm(pos[idx1] - pos[idx2], p=2, dim=-1).view(-1, 1)\n",
    "        gaussian_edge_attr = gaussian_rbf(edge_attr)\n",
    "        \n",
    "        # embed\n",
    "        E_hat = self.embedding(z)\n",
    "        E_hat = self.act(E_hat)\n",
    "        \n",
    "        # message passing x 3\n",
    "        # message passing 1\n",
    "        E_hat = self.propagate(edge_index, x=E_hat, edge_attr=gaussian_edge_attr)\n",
    "        E_hat = self.act(E_hat)\n",
    "        E_hat = self.atomwise_lin1(E_hat)\n",
    "        E_hat = self.act(E_hat)\n",
    "        \n",
    "        # message passing 2\n",
    "        E_hat = self.propagate(edge_index, x=E_hat, edge_attr=gaussian_edge_attr)\n",
    "        E_hat = self.act(E_hat)\n",
    "        E_hat = self.atomwise_lin1(E_hat)\n",
    "        E_hat = self.act(E_hat)\n",
    "        \n",
    "        # message passing 3\n",
    "        E_hat = self.propagate(edge_index, x=E_hat, edge_attr=gaussian_edge_attr)\n",
    "        E_hat = self.act(E_hat)\n",
    "        E_hat = self.atomwise_lin1(E_hat)\n",
    "        E_hat = self.act(E_hat)\n",
    "\n",
    "        # compression\n",
    "        E_hat = self.compress_lin1(E_hat)\n",
    "        E_hat = self.act(E_hat)\n",
    "        E_hat = self.compress_lin2(E_hat)\n",
    "        E_hat = self.act(E_hat)\n",
    "        E_hat = global_add_pool(E_hat, data.batch)\n",
    "        \n",
    "        # calculate the energy prediction as the negative gradient of energy with respect to position, retaining the computational graph for backprop\n",
    "        F_hat = -torch.autograd.grad(E_hat.sum(), pos, retain_graph=True)[0]\n",
    "        \n",
    "        # return a tuple of the predictions\n",
    "        return E_hat, F_hat\n",
    "    \n",
    "    def message(self, x_j, edge_attr):\n",
    "        # concatenate the vectors\n",
    "        lin_in = torch.cat((x_j, edge_attr), dim=1).float()\n",
    "        \n",
    "        # pass them into the linear layer\n",
    "        out = self.message_lin(lin_in)\n",
    "        \n",
    "        # return the output\n",
    "        return out\n",
    "    \n",
    "    def update(self, aggr_out, x):\n",
    "        # concatenate the vectors\n",
    "        lin_in = torch.cat((aggr_out, x), dim=1).float()\n",
    "        \n",
    "        # pass them into the linear layer\n",
    "        out = self.update_lin(lin_in)\n",
    "        \n",
    "        # return the output\n",
    "        return out"
   ]
  },
  {
   "cell_type": "code",
   "execution_count": 4,
   "metadata": {},
   "outputs": [],
   "source": [
    "# model hyperparameters\n",
    "base_learning_rate = 0.001\n",
    "num_epochs = 50\n",
    "scheduler_mode = 'min'\n",
    "scheduler_factor = 0.32\n",
    "scheduler_patience = 1\n",
    "scheduler_threshold = 0\n",
    "rho = 1-1e-1"
   ]
  },
  {
   "cell_type": "code",
   "execution_count": 5,
   "metadata": {},
   "outputs": [],
   "source": [
    "# initialize model\n",
    "model = EGNN4()\n",
    "\n",
    "# I couldn't think of a concise way to initialize optimizer, scheduler, and loss_fn based on the contents of config\n",
    "# this is all for show anyway, but it would be nice to have a natural way of doing this that generalizes when I am selecting hyperparameters more carefully\n",
    "optimizer = Adam(model.parameters(), lr=base_learning_rate)\n",
    "scheduler = lr_scheduler.ReduceLROnPlateau(optimizer=optimizer, mode=scheduler_mode, factor=scheduler_factor, patience=scheduler_patience, threshold=scheduler_threshold)\n",
    "loss_fn = MSELoss()"
   ]
  },
  {
   "cell_type": "code",
   "execution_count": 6,
   "metadata": {},
   "outputs": [],
   "source": [
    "config = {\n",
    "    'base_learning_rate': base_learning_rate,\n",
    "    'num_epochs': num_epochs,\n",
    "    'optimizer': 'Adam',\n",
    "    'scheduler': 'ReduceLROnPlateau',\n",
    "    'scheduler_mode': 'min',\n",
    "    'scheduler_factor': scheduler_factor, \n",
    "    'scheduler_patience': scheduler_patience,\n",
    "    'scheduler_threshold': scheduler_threshold,\n",
    "    'training_loss_fn': 'MSELoss',\n",
    "    'rho': rho\n",
    "}"
   ]
  },
  {
   "cell_type": "code",
   "execution_count": 7,
   "metadata": {},
   "outputs": [
    {
     "name": "stderr",
     "output_type": "stream",
     "text": [
      "/usr/local/Caskroom/miniconda/base/envs/GDL/lib/python3.11/site-packages/torch_geometric/data/dataset.py:239: UserWarning: The `pre_transform` argument differs from the one used in the pre-processed version of this dataset. If you want to make use of another pre-processing technique, pass `force_reload=True` explicitly to reload the dataset.\n",
      "  warnings.warn(\n"
     ]
    }
   ],
   "source": [
    "# load in dataset\n",
    "dataset = MD17(root='../../data/EGNN2/benzene', name='benzene', pre_transform=None, transform=None)\n",
    "\n",
    "# 80/10/10 split\n",
    "train_size = int(0.8 * len(dataset))\n",
    "val_size = int(0.1 * len(dataset))\n",
    "test_size = len(dataset) - train_size - val_size\n",
    "\n",
    "# build train, val, test datasets out of main dataset\n",
    "train_dataset, val_dataset, test_dataset = torch.utils.data.random_split(dataset, [train_size, val_size, test_size])\n",
    "\n",
    "# turn into DataLoaders for batching efficiency\n",
    "train_loader = DataLoader(train_dataset, batch_size=32)\n",
    "val_loader = DataLoader(val_dataset, batch_size=32)\n",
    "test_loader = DataLoader(test_dataset, batch_size=32)"
   ]
  },
  {
   "cell_type": "code",
   "execution_count": 8,
   "metadata": {},
   "outputs": [
    {
     "data": {
      "text/html": [
       "Tracking run with wandb version 0.17.1"
      ],
      "text/plain": [
       "<IPython.core.display.HTML object>"
      ]
     },
     "metadata": {},
     "output_type": "display_data"
    },
    {
     "data": {
      "text/html": [
       "Run data is saved locally in <code>/Users/samharshe/Documents/Gerstein Lab/EGNN/model/scripts/wandb/run-20240614_220633-vu2hyps3</code>"
      ],
      "text/plain": [
       "<IPython.core.display.HTML object>"
      ]
     },
     "metadata": {},
     "output_type": "display_data"
    },
    {
     "data": {
      "text/html": [
       "Syncing run <strong><a href='https://wandb.ai/sharshe/EGNN/runs/vu2hyps3' target=\"_blank\">flowing-leaf-27</a></strong> to <a href='https://wandb.ai/sharshe/EGNN' target=\"_blank\">Weights & Biases</a> (<a href='https://wandb.me/run' target=\"_blank\">docs</a>)<br/>"
      ],
      "text/plain": [
       "<IPython.core.display.HTML object>"
      ]
     },
     "metadata": {},
     "output_type": "display_data"
    },
    {
     "data": {
      "text/html": [
       " View project at <a href='https://wandb.ai/sharshe/EGNN' target=\"_blank\">https://wandb.ai/sharshe/EGNN</a>"
      ],
      "text/plain": [
       "<IPython.core.display.HTML object>"
      ]
     },
     "metadata": {},
     "output_type": "display_data"
    },
    {
     "data": {
      "text/html": [
       " View run at <a href='https://wandb.ai/sharshe/EGNN/runs/vu2hyps3' target=\"_blank\">https://wandb.ai/sharshe/EGNN/runs/vu2hyps3</a>"
      ],
      "text/plain": [
       "<IPython.core.display.HTML object>"
      ]
     },
     "metadata": {},
     "output_type": "display_data"
    },
    {
     "data": {
      "text/html": [
       "<button onClick=\"this.nextSibling.style.display='block';this.style.display='none';\">Display W&B run</button><iframe src='https://wandb.ai/sharshe/EGNN/runs/vu2hyps3?jupyter=true' style='border:none;width:100%;height:420px;display:none;'></iframe>"
      ],
      "text/plain": [
       "<wandb.sdk.wandb_run.Run at 0x125f32110>"
      ]
     },
     "execution_count": 8,
     "metadata": {},
     "output_type": "execute_result"
    }
   ],
   "source": [
    "# val statistics\n",
    "val_mean_losses = []\n",
    "val_mean_E_losses = []\n",
    "val_mean_F_losses = []\n",
    "\n",
    "# test statistics using the same loss function as training\n",
    "test_squared_losses = []\n",
    "test_E_squared_losses = []\n",
    "test_F_squared_losses = []\n",
    "\n",
    "# test statistics using MAE for comparison with other benchmarks\n",
    "test_absolute_losses = []\n",
    "test_E_absolute_losses = []\n",
    "test_F_absolute_losses = []\n",
    "\n",
    "# learning rates\n",
    "learning_rates = [base_learning_rate]\n",
    "\n",
    "# initialize wandb run\n",
    "wandb.init(\n",
    "    project = \"EGNN\",\n",
    "    config = config,\n",
    ")"
   ]
  },
  {
   "cell_type": "code",
   "execution_count": 10,
   "metadata": {},
   "outputs": [
    {
     "name": "stdout",
     "output_type": "stream",
     "text": [
      "EPOCH 1 OF 50 | VAL MEAN LOSS: 1.3183922646931023e-06\n",
      "EPOCH 2 OF 50 | VAL MEAN LOSS: 9.860318783694311e-08\n",
      "EPOCH 3 OF 50 | VAL MEAN LOSS: 1.1990578308029853e-08\n",
      "EPOCH 4 OF 50 | VAL MEAN LOSS: 1.6386486834107927e-08\n",
      "EPOCH 5 OF 50 | VAL MEAN LOSS: 1.869754271410784e-07\n",
      "EPOCH 6 OF 50 | VAL MEAN LOSS: 8.231103798550521e-09\n",
      "EPOCH 7 OF 50 | VAL MEAN LOSS: 1.1994077731003472e-08\n",
      "EPOCH 8 OF 50 | VAL MEAN LOSS: 1.0956646256943259e-08\n",
      "EPOCH 9 OF 50 | VAL MEAN LOSS: 6.999739898816415e-09\n",
      "EPOCH 10 OF 50 | VAL MEAN LOSS: 7.273564861520754e-09\n",
      "EPOCH 11 OF 50 | VAL MEAN LOSS: 7.336788510059478e-09\n",
      "EPOCH 12 OF 50 | VAL MEAN LOSS: 6.0434284243626735e-09\n",
      "EPOCH 13 OF 50 | VAL MEAN LOSS: 6.040112410232723e-09\n"
     ]
    }
   ],
   "source": [
    "# training loop occurs num_epochs times\n",
    "for epoch in range(num_epochs):\n",
    "    # TRAINING\n",
    "    # track gradients\n",
    "    model.train()\n",
    "    \n",
    "    # dummy variable to track loss every 100 batches\n",
    "    i = 0\n",
    "    \n",
    "    # loop through loader\n",
    "    for data in train_loader:\n",
    "        # clear gradients\n",
    "        optimizer.zero_grad()\n",
    "\n",
    "        # target values\n",
    "        E = data.energy\n",
    "        F = data.force\n",
    "        \n",
    "        # predictions from the model\n",
    "        E_hat, F_hat = model(data)\n",
    "        \n",
    "        # squared error for energy loss\n",
    "        E_loss = (1 - rho) * loss_fn(torch.squeeze(E_hat), E)\n",
    "\n",
    "        # a version of squared error for force loss\n",
    "        F_loss = rho * CalcF_squared_loss(F_hat, F)\n",
    "        \n",
    "        # canonical loss\n",
    "        loss = E_loss + F_loss\n",
    "    \n",
    "        # calculate gradients\n",
    "        loss.backward()\n",
    "        \n",
    "        # update\n",
    "        optimizer.step()\n",
    "        \n",
    "        # save loss every 100 goes\n",
    "        if i%100 == 0:\n",
    "            wandb.log({\"train_losses\": loss.item()})\n",
    "            wandb.log({\"E_train_losses\": E_loss.item()})\n",
    "            wandb.log({\"F_train_losses\": F_loss.item()})\n",
    "            \n",
    "            # save learning rate\n",
    "            lr = optimizer.param_groups[0]['lr']\n",
    "            wandb.log({\"training_rates\": lr})\n",
    "        i+=1\n",
    "    \n",
    "    # VAL\n",
    "    epoch_losses = []\n",
    "    epoch_E_losses = []\n",
    "    epoch_F_losses = []\n",
    "    \n",
    "    # do not track gradients\n",
    "    model.eval()\n",
    "    \n",
    "    # loop through val loader\n",
    "    for data in val_loader:\n",
    "        # target values\n",
    "        E = data.energy\n",
    "        F = data.force\n",
    "        \n",
    "        # predictions from the model\n",
    "        E_hat, F_hat = model(data)\n",
    "        \n",
    "        # squared error for energy loss\n",
    "        E_loss = (1 - rho) * loss_fn(torch.squeeze(E_hat), E)\n",
    "        \n",
    "        # a version of squared error for force loss\n",
    "        F_loss = rho * CalcF_squared_loss(F_hat, F)\n",
    "        \n",
    "        # canonical loss\n",
    "        loss =  E_loss + F_loss\n",
    "        \n",
    "        # track F_loss, E_loss, canonical loss\n",
    "        epoch_losses.append(loss.item())\n",
    "        epoch_E_losses.append(E_loss.item())\n",
    "        epoch_F_losses.append(F_loss.item())\n",
    "    \n",
    "    # calculate the mean losses from this epoch\n",
    "    epoch_mean_loss = torch.mean(torch.tensor(epoch_losses)).item()\n",
    "    epoch_mean_E_loss = torch.mean(torch.tensor(epoch_E_losses)).item()\n",
    "    epoch_mean_F_loss = torch.mean(torch.tensor(epoch_F_losses)).item()\n",
    "    \n",
    "    # save the mean canonical loss from this epoch for comparison to that of other epochs to determine whether to save weights\n",
    "    val_mean_losses.append(epoch_mean_loss)\n",
    "    \n",
    "    # log mean losses with wandb\n",
    "    wandb.log({\"epoch_mean_loss\": epoch_mean_loss})\n",
    "    wandb.log({\"epoch_mean_E_loss\": epoch_mean_E_loss})\n",
    "    wandb.log({\"epoch_mean_F_loss\": epoch_mean_F_loss})\n",
    "    \n",
    "    # print out the results of the epoch\n",
    "    print(f'EPOCH {epoch+1} OF {num_epochs} | VAL MEAN LOSS: {epoch_mean_loss}')\n",
    "    \n",
    "    # if this is our best val performance yet, save the weights\n",
    "    if min(val_mean_losses) == epoch_mean_loss:\n",
    "        torch.save(model, '../weights/EGNN4.pth')\n",
    "        \n",
    "    scheduler.step(epoch_mean_loss)"
   ]
  },
  {
   "cell_type": "code",
   "execution_count": null,
   "metadata": {},
   "outputs": [],
   "source": [
    "# TEST\n",
    "for data in test_loader:\n",
    "    # target values\n",
    "    E = data.energy\n",
    "    F = data.force\n",
    "    \n",
    "    # predictions from the model\n",
    "    E_hat, F_hat = model(data)\n",
    "    \n",
    "    # squared error for energy loss\n",
    "    E_squared_loss = loss_fn(torch.squeeze(E_hat), E) * (1-rho)\n",
    "    \n",
    "    # a version of squared error for force loss\n",
    "    F_squared_loss = CalcF_squared_loss(F_hat, F) * rho\n",
    "    \n",
    "    # canonical loss\n",
    "    squared_loss = E_squared_loss + F_squared_loss\n",
    "    \n",
    "    # squared error for energy loss\n",
    "    E_absolute_loss = (1 - rho) * torch.mean(torch.abs(torch.squeeze(E_hat)-E))\n",
    "    \n",
    "    # a version of squared error for force loss\n",
    "    F_absolute_loss = rho * CalcF_absolute_loss(F_hat, F)\n",
    "    \n",
    "    # canonical loss\n",
    "    absolute_loss = E_absolute_loss + F_absolute_loss\n",
    "    print(absolute_loss)\n",
    "    \n",
    "    # save squared losses\n",
    "    test_squared_losses.append(squared_loss.item())\n",
    "    test_E_squared_losses.append(E_squared_loss.item())\n",
    "    test_F_squared_losses.append(F_squared_loss.item())\n",
    "    \n",
    "    # save absolute losses\n",
    "    test_absolute_losses.append(absolute_loss.item())\n",
    "    test_E_absolute_losses.append(E_absolute_loss.item())\n",
    "    test_F_absolute_losses.append(F_absolute_loss.item())\n",
    "\n",
    "# calculate and log mean test losses\n",
    "test_mean_squared_loss = torch.mean(torch.tensor(test_squared_losses)).item()\n",
    "test_mean_E_squared_loss = torch.mean(torch.tensor(test_E_squared_losses)).item()\n",
    "test_mean_F_squared_loss = torch.mean(torch.tensor(test_F_squared_losses)).item()\n",
    "\n",
    "wandb.log({\"test_mean_squared_loss\": test_mean_squared_loss})\n",
    "wandb.log({\"test_mean_E_squared_loss\": test_mean_E_squared_loss})\n",
    "wandb.log({\"test_mean_F_squared_loss\": test_mean_F_squared_loss})\n",
    "\n",
    "test_mean_absolute_loss = torch.mean(torch.tensor(test_absolute_losses)).item()\n",
    "test_mean_E_absolute_loss = torch.mean(torch.tensor(test_E_absolute_losses)).item()\n",
    "test_mean_F_absolute_loss = torch.mean(torch.tensor(test_F_absolute_losses)).item()\n",
    "\n",
    "wandb.log({\"test_mean_absolute_loss\": test_mean_absolute_loss})\n",
    "wandb.log({\"test_mean_E_absolute_loss\": test_mean_E_absolute_loss})\n",
    "wandb.log({\"test_mean_F_absolute_loss\": test_mean_F_absolute_loss})\n",
    "\n",
    "# print mean test losses\n",
    "print(f'TEST MEAN SQUARED LOSS: {test_mean_squared_loss}')\n",
    "print(f'TEST MEAN ABSOLUTE LOSS: {test_mean_squared_loss}')"
   ]
  },
  {
   "cell_type": "code",
   "execution_count": null,
   "metadata": {},
   "outputs": [],
   "source": [
    "wandb.finish()"
   ]
  }
 ],
 "metadata": {
  "kernelspec": {
   "display_name": "GDL",
   "language": "python",
   "name": "python3"
  },
  "language_info": {
   "codemirror_mode": {
    "name": "ipython",
    "version": 3
   },
   "file_extension": ".py",
   "mimetype": "text/x-python",
   "name": "python",
   "nbconvert_exporter": "python",
   "pygments_lexer": "ipython3",
   "version": "3.11.8"
  }
 },
 "nbformat": 4,
 "nbformat_minor": 2
}
