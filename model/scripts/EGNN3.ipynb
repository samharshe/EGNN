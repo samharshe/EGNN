{
 "cells": [
  {
   "cell_type": "code",
   "execution_count": 4,
   "metadata": {},
   "outputs": [],
   "source": [
    "import torch\n",
    "from torch import Tensor\n",
    "\n",
    "import os\n",
    "\n",
    "from torch_geometric.datasets import MD17\n",
    "\n",
    "from torch.nn import Module, Embedding, Linear, MSELoss, SiLU\n",
    "from torch_geometric.nn import global_add_pool\n",
    "from torch_geometric.nn.conv import MessagePassing\n",
    "from torch_geometric.data import Data\n",
    "\n",
    "from gaussian_rbf import gaussian_rbf\n",
    "from losses import CalcF_squared_loss, CalcF_absolute_loss\n",
    "\n",
    "from torch.optim import Adam\n",
    "import torch.optim.lr_scheduler as lr_scheduler\n",
    "from torch_geometric.loader import DataLoader\n",
    "\n",
    "import wandb"
   ]
  },
  {
   "cell_type": "code",
   "execution_count": 5,
   "metadata": {},
   "outputs": [
    {
     "name": "stderr",
     "output_type": "stream",
     "text": [
      "\u001b[34m\u001b[1mwandb\u001b[0m: Currently logged in as: \u001b[33msharshe\u001b[0m. Use \u001b[1m`wandb login --relogin`\u001b[0m to force relogin\n"
     ]
    },
    {
     "data": {
      "text/plain": [
       "<torch._C.Generator at 0x110cbffd0>"
      ]
     },
     "execution_count": 5,
     "metadata": {},
     "output_type": "execute_result"
    }
   ],
   "source": [
    "# setting up wandb\n",
    "os.environ['WANDB_NOTEBOOK_NAME'] = 'EGNN3.ipynb'\n",
    "wandb.login()\n",
    "\n",
    "# reproducibility\n",
    "torch.manual_seed(2002)"
   ]
  },
  {
   "cell_type": "code",
   "execution_count": 6,
   "metadata": {},
   "outputs": [
    {
     "name": "stderr",
     "output_type": "stream",
     "text": [
      "/usr/local/Caskroom/miniconda/base/envs/GDL/lib/python3.11/site-packages/torch_geometric/data/dataset.py:239: UserWarning: The `pre_transform` argument differs from the one used in the pre-processed version of this dataset. If you want to make use of another pre-processing technique, pass `force_reload=True` explicitly to reload the dataset.\n",
      "  warnings.warn(\n"
     ]
    }
   ],
   "source": [
    "# load in dataset\n",
    "dataset = MD17(root='../../data/EGNN2/benzene', name='benzene', pre_transform=None, transform=None)\n",
    "\n",
    "# 80/10/10 split\n",
    "train_size = int(0.8 * len(dataset))\n",
    "val_size = int(0.1 * len(dataset))\n",
    "test_size = len(dataset) - train_size - val_size\n",
    "\n",
    "# build train, val, test datasets out of main dataset\n",
    "train_dataset, val_dataset, test_dataset = torch.utils.data.random_split(dataset, [train_size, val_size, test_size])\n",
    "\n",
    "# turn into DataLoaders for batching efficiency\n",
    "train_loader = DataLoader(train_dataset, batch_size=32)\n",
    "val_loader = DataLoader(val_dataset, batch_size=32)\n",
    "test_loader = DataLoader(test_dataset, batch_size=32)"
   ]
  },
  {
   "cell_type": "code",
   "execution_count": 10,
   "metadata": {},
   "outputs": [],
   "source": [
    "class EGNN3(MessagePassing):\n",
    "    def __init__(self):\n",
    "        super().__init__()\n",
    "        \n",
    "        # activation function\n",
    "        self.act = SiLU()\n",
    "        \n",
    "        # initialize layers\n",
    "        # 118 atomic numbers into 32-dimensional space\n",
    "        self.embedding = Embedding(118,32)\n",
    "        \n",
    "        # 32 dimensions for the embedding of the neighbor\n",
    "        # 8 for the embedding of the distance\n",
    "        self.message_lin = Linear(32 + 8, 32)\n",
    "        \n",
    "        # 32 dimensions for the current node embedding\n",
    "        # 32 for the message\n",
    "        self.update_lin = Linear(32 + 32, 32)\n",
    "        \n",
    "        # compress the 32-dimensional node embedding to 1 dimension\n",
    "        self.compress_lin = Linear(32, 1)\n",
    "        \n",
    "    def forward(self, data):\n",
    "        # get attributes out of data object\n",
    "        edge_index = data.edge_index\n",
    "        z = data.z\n",
    "        pos = data.pos\n",
    "        \n",
    "        # force is the negative gradient of energy with respect to position, so pos must be on the computational graph\n",
    "        pos.requires_grad_(True)\n",
    "        \n",
    "        # calculate edge distances and turn them into a vector through Gaussian RBF\n",
    "        idx1, idx2 = edge_index\n",
    "        edge_attr = torch.norm(pos[idx1] - pos[idx2], p=2, dim=-1).view(-1, 1)\n",
    "        gaussian_edge_attr = gaussian_rbf(edge_attr)\n",
    "        \n",
    "        # forward pass proper\n",
    "        E_hat = self.embedding(z)\n",
    "        E_hat = self.act(E_hat)\n",
    "        E_hat = self.propagate(edge_index, x=E_hat, edge_attr=gaussian_edge_attr)\n",
    "        E_hat = self.act(E_hat)\n",
    "        E_hat = self.compress_lin(E_hat)\n",
    "        E_hat = self.act(E_hat)\n",
    "        E_hat = global_add_pool(E_hat, data.batch)\n",
    "        \n",
    "        # calculate the energy prediction as the negative gradient of energy with respect to position, retaining the computational graph for backprop\n",
    "        F_hat = -torch.autograd.grad(E_hat.sum(), pos, retain_graph=True)[0]\n",
    "        \n",
    "        # return a tuple of the predictions\n",
    "        return E_hat, F_hat\n",
    "    \n",
    "    def message(self, x_j, edge_attr):\n",
    "        # concatenate the vectors\n",
    "        lin_in = torch.cat((x_j, edge_attr), dim=1).float()\n",
    "        \n",
    "        # pass them into the linear layer\n",
    "        out = self.message_lin(lin_in)\n",
    "        \n",
    "        # return the output\n",
    "        return out\n",
    "    \n",
    "    def update(self, aggr_out, x):\n",
    "        # concatenate the vectors\n",
    "        lin_in = torch.cat((aggr_out, x), dim=1).float()\n",
    "        \n",
    "        # pass them into the linear layer\n",
    "        out = self.update_lin(lin_in)\n",
    "        \n",
    "        # return the output\n",
    "        return out"
   ]
  },
  {
   "cell_type": "code",
   "execution_count": 11,
   "metadata": {},
   "outputs": [],
   "source": [
    "config_1 = {\n",
    "    'base_learning_rate': 0.0001,\n",
    "    'num_epochs': 10,\n",
    "    'optimizer': 'Adam',\n",
    "    'scheduler': 'ReduceLROnPlateau',\n",
    "    'rho': 1-1e-1\n",
    "}\n",
    "\n",
    "config_2 = {\n",
    "    'base_learning_rate': 0.0001,\n",
    "    'num_epochs': 10,\n",
    "    'optimizer': 'Adam',\n",
    "    'scheduler': 'ReduceLROnPlateau',\n",
    "    'rho': 1-1e-2\n",
    "}\n",
    "\n",
    "config_3 = {\n",
    "    'base_learning_rate': 0.0001,\n",
    "    'num_epochs': 10,\n",
    "    'optimizer': 'Adam',\n",
    "    'scheduler': 'ReduceLROnPlateau',\n",
    "    'rho': 1-1e-3\n",
    "}\n",
    "\n",
    "configs = [config_1, config_2, config_3]"
   ]
  },
  {
   "cell_type": "code",
   "execution_count": 38,
   "metadata": {},
   "outputs": [
    {
     "data": {
      "text/html": [
       "Tracking run with wandb version 0.17.1"
      ],
      "text/plain": [
       "<IPython.core.display.HTML object>"
      ]
     },
     "metadata": {},
     "output_type": "display_data"
    },
    {
     "data": {
      "text/html": [
       "Run data is saved locally in <code>/Users/samharshe/Documents/Gerstein Lab/EGNN/model/scripts/wandb/run-20240614_145737-3zlttcry</code>"
      ],
      "text/plain": [
       "<IPython.core.display.HTML object>"
      ]
     },
     "metadata": {},
     "output_type": "display_data"
    },
    {
     "data": {
      "text/html": [
       "Syncing run <strong><a href='https://wandb.ai/sharshe/EGNN/runs/3zlttcry' target=\"_blank\">radiant-dew-25</a></strong> to <a href='https://wandb.ai/sharshe/EGNN' target=\"_blank\">Weights & Biases</a> (<a href='https://wandb.me/run' target=\"_blank\">docs</a>)<br/>"
      ],
      "text/plain": [
       "<IPython.core.display.HTML object>"
      ]
     },
     "metadata": {},
     "output_type": "display_data"
    },
    {
     "data": {
      "text/html": [
       " View project at <a href='https://wandb.ai/sharshe/EGNN' target=\"_blank\">https://wandb.ai/sharshe/EGNN</a>"
      ],
      "text/plain": [
       "<IPython.core.display.HTML object>"
      ]
     },
     "metadata": {},
     "output_type": "display_data"
    },
    {
     "data": {
      "text/html": [
       " View run at <a href='https://wandb.ai/sharshe/EGNN/runs/3zlttcry' target=\"_blank\">https://wandb.ai/sharshe/EGNN/runs/3zlttcry</a>"
      ],
      "text/plain": [
       "<IPython.core.display.HTML object>"
      ]
     },
     "metadata": {},
     "output_type": "display_data"
    },
    {
     "name": "stdout",
     "output_type": "stream",
     "text": [
      "EPOCH 1 OF 10 | VAL MEAN LOSS: 1.0553500942478422e-05\n",
      "EPOCH 2 OF 10 | VAL MEAN LOSS: 6.648735052294796e-06\n",
      "EPOCH 3 OF 10 | VAL MEAN LOSS: 4.2620731619535945e-06\n",
      "EPOCH 4 OF 10 | VAL MEAN LOSS: 2.9113982691342244e-06\n",
      "EPOCH 5 OF 10 | VAL MEAN LOSS: 2.1171670141484356e-06\n",
      "EPOCH 6 OF 10 | VAL MEAN LOSS: 2.280421313116676e-06\n",
      "EPOCH 7 OF 10 | VAL MEAN LOSS: 1.1726501725206617e-06\n",
      "EPOCH 8 OF 10 | VAL MEAN LOSS: 1.068434812623309e-06\n",
      "EPOCH 9 OF 10 | VAL MEAN LOSS: 9.835063110585907e-07\n",
      "EPOCH 10 OF 10 | VAL MEAN LOSS: 9.080928862204019e-07\n",
      "TEST MEAN SQUARED LOSS: 1.3181526128391852e-06\n",
      "TEST MEAN ABSOLUTE LOSS: 1.3181526128391852e-06\n"
     ]
    },
    {
     "data": {
      "text/html": [
       "<style>\n",
       "    table.wandb td:nth-child(1) { padding: 0 10px; text-align: left ; width: auto;} td:nth-child(2) {text-align: left ; width: 100%}\n",
       "    .wandb-row { display: flex; flex-direction: row; flex-wrap: wrap; justify-content: flex-start; width: 100% }\n",
       "    .wandb-col { display: flex; flex-direction: column; flex-basis: 100%; flex: 1; padding: 10px; }\n",
       "    </style>\n",
       "<div class=\"wandb-row\"><div class=\"wandb-col\"><h3>Run history:</h3><br/><table class=\"wandb\"><tr><td>E_train_losses</td><td>█▂▁▁▁▁▁▁▁▃▁▁▁▁▁▁▁▁▁▁▂▁▁▁▁▁▁▁▁▁▁▁▁▁▁▁▁▁▁▁</td></tr><tr><td>F_train_losses</td><td>█▂▁▁▁▁▁▁▁▁▁▁▁▁▁▁▁▁▁▁▁▁▁▁▁▁▁▁▁▁▁▁▁▁▁▁▁▁▁▁</td></tr><tr><td>epoch_mean_E_loss</td><td>█▁▂▁▃▂▁▁▁▁</td></tr><tr><td>epoch_mean_F_loss</td><td>█▅▃▂▂▂▁▁▁▁</td></tr><tr><td>epoch_mean_loss</td><td>█▅▃▂▂▂▁▁▁▁</td></tr><tr><td>test_mean_E_absolute_loss</td><td>▁</td></tr><tr><td>test_mean_E_squared_loss</td><td>▁</td></tr><tr><td>test_mean_F_absolute_loss</td><td>▁</td></tr><tr><td>test_mean_F_squared_loss</td><td>▁</td></tr><tr><td>test_mean_absolute_loss</td><td>▁</td></tr><tr><td>test_mean_squared_loss</td><td>▁</td></tr><tr><td>train_losses</td><td>█▂▁▁▁▁▁▁▁▁▁▁▁▁▁▁▁▁▁▁▁▁▁▁▁▁▁▁▁▁▁▁▁▁▁▁▁▁▁▁</td></tr><tr><td>training_rates</td><td>████████████████████████▁▁▁▁▁▁▁▁▁▁▁▁▁▁▁▁</td></tr></table><br/></div><div class=\"wandb-col\"><h3>Run summary:</h3><br/><table class=\"wandb\"><tr><td>E_train_losses</td><td>0.0</td></tr><tr><td>F_train_losses</td><td>0.0</td></tr><tr><td>epoch_mean_E_loss</td><td>0.0</td></tr><tr><td>epoch_mean_F_loss</td><td>0.0</td></tr><tr><td>epoch_mean_loss</td><td>0.0</td></tr><tr><td>test_mean_E_absolute_loss</td><td>0.00384</td></tr><tr><td>test_mean_E_squared_loss</td><td>0.0</td></tr><tr><td>test_mean_F_absolute_loss</td><td>0.00112</td></tr><tr><td>test_mean_F_squared_loss</td><td>0.0</td></tr><tr><td>test_mean_absolute_loss</td><td>0.0</td></tr><tr><td>test_mean_squared_loss</td><td>0.0</td></tr><tr><td>train_losses</td><td>0.0</td></tr><tr><td>training_rates</td><td>1e-05</td></tr></table><br/></div></div>"
      ],
      "text/plain": [
       "<IPython.core.display.HTML object>"
      ]
     },
     "metadata": {},
     "output_type": "display_data"
    },
    {
     "data": {
      "text/html": [
       " View run <strong style=\"color:#cdcd00\">radiant-dew-25</strong> at: <a href='https://wandb.ai/sharshe/EGNN/runs/3zlttcry' target=\"_blank\">https://wandb.ai/sharshe/EGNN/runs/3zlttcry</a><br/> View project at: <a href='https://wandb.ai/sharshe/EGNN' target=\"_blank\">https://wandb.ai/sharshe/EGNN</a><br/>Synced 6 W&B file(s), 0 media file(s), 0 artifact file(s) and 0 other file(s)"
      ],
      "text/plain": [
       "<IPython.core.display.HTML object>"
      ]
     },
     "metadata": {},
     "output_type": "display_data"
    },
    {
     "data": {
      "text/html": [
       "Find logs at: <code>./wandb/run-20240614_145737-3zlttcry/logs</code>"
      ],
      "text/plain": [
       "<IPython.core.display.HTML object>"
      ]
     },
     "metadata": {},
     "output_type": "display_data"
    }
   ],
   "source": [
    "for config in configs[2:]:\n",
    "    # initialize model\n",
    "    model = EGNN3()\n",
    "\n",
    "    # I couldn't think of a concise way to initialize optimizer, scheduler, and loss_fn based on the contents of config\n",
    "    # this is all for show anyway, but it would be nice to have a natural way of doing this that generalizes when I am selecting hyperparameters more carefully\n",
    "    optimizer = Adam(model.parameters(), lr=0.0001)\n",
    "    scheduler = lr_scheduler.ReduceLROnPlateau(optimizer=optimizer, mode='min', factor=0.1, patience=0, threshold=0)\n",
    "    loss_fn = MSELoss()\n",
    "\n",
    "    # val statistics\n",
    "    val_mean_losses = []\n",
    "    val_mean_E_losses = []\n",
    "    val_mean_F_losses = []\n",
    "\n",
    "    # test statistics using the same loss function as training\n",
    "    test_squared_losses = []\n",
    "    test_E_squared_losses = []\n",
    "    test_F_squared_losses = []\n",
    "    \n",
    "    # test statistics using MAE for comparison with other benchmarks\n",
    "    test_absolute_losses = []\n",
    "    test_E_absolute_losses = []\n",
    "    test_F_absolute_losses = []\n",
    "\n",
    "    # learning rates\n",
    "    learning_rates = 0.0001\n",
    "    \n",
    "    # define 'rho' and 'num_epochs' variables for concision\n",
    "    rho = config['rho']\n",
    "    num_epochs = config['num_epochs']\n",
    "    \n",
    "    # initialize wandb run\n",
    "    wandb.init(\n",
    "        project = \"EGNN\",\n",
    "        config = config,\n",
    "    )\n",
    "    \n",
    "    # training loop occurs config['num_epochs'] times\n",
    "    for epoch in range(num_epochs):\n",
    "        # TRAINING\n",
    "        # track gradients\n",
    "        model.train()\n",
    "        \n",
    "        # dummy variable to track loss every 100 batches\n",
    "        i = 0\n",
    "        \n",
    "        # loop through loader\n",
    "        for data in train_loader:\n",
    "            # clear gradients\n",
    "            optimizer.zero_grad()\n",
    "\n",
    "            # target values\n",
    "            E = data.energy\n",
    "            F = data.force\n",
    "            \n",
    "            # predictions from the model\n",
    "            E_hat, F_hat = model(data)\n",
    "            \n",
    "            # squared error for energy loss\n",
    "            E_loss = (1 - rho) * loss_fn(torch.squeeze(E_hat), E)\n",
    "\n",
    "            # a version of squared error for force loss\n",
    "            F_loss = rho * CalcF_squared_loss(F_hat, F)\n",
    "            \n",
    "            # canonical loss\n",
    "            loss = E_loss + F_loss\n",
    "        \n",
    "            # calculate gradients\n",
    "            loss.backward()\n",
    "            \n",
    "            # update\n",
    "            optimizer.step()\n",
    "            \n",
    "            # save loss every 100 goes\n",
    "            if i%100 == 0:\n",
    "                wandb.log({\"train_losses\": loss.item()})\n",
    "                wandb.log({\"E_train_losses\": E_loss.item()})\n",
    "                wandb.log({\"F_train_losses\": F_loss.item()})\n",
    "                \n",
    "                # save learning rate\n",
    "                lr = optimizer.param_groups[0]['lr']\n",
    "                wandb.log({\"training_rates\": lr})\n",
    "            i+=1\n",
    "        \n",
    "        # VAL\n",
    "        epoch_losses = []\n",
    "        epoch_E_losses = []\n",
    "        epoch_F_losses = []\n",
    "        \n",
    "        # do not track gradients\n",
    "        model.eval()\n",
    "        \n",
    "        # loop through val loader\n",
    "        for data in val_loader:\n",
    "            # target values\n",
    "            E = data.energy\n",
    "            F = data.force\n",
    "            \n",
    "            # predictions from the model\n",
    "            E_hat, F_hat = model(data)\n",
    "            \n",
    "            # squared error for energy loss\n",
    "            E_loss = (1 - rho) * loss_fn(torch.squeeze(E_hat), E)\n",
    "            \n",
    "            # a version of squared error for force loss\n",
    "            F_loss = rho * CalcF_squared_loss(F_hat, F)\n",
    "            \n",
    "            # canonical loss\n",
    "            loss =  E_loss + F_loss\n",
    "            \n",
    "            # track F_loss, E_loss, canonical loss\n",
    "            epoch_losses.append(loss.item())\n",
    "            epoch_E_losses.append(E_loss.item())\n",
    "            epoch_F_losses.append(F_loss.item())\n",
    "        \n",
    "        # calculate the mean losses from this epoch\n",
    "        epoch_mean_loss = torch.mean(torch.tensor(epoch_losses)).item()\n",
    "        epoch_mean_E_loss = torch.mean(torch.tensor(epoch_E_losses)).item()\n",
    "        epoch_mean_F_loss = torch.mean(torch.tensor(epoch_F_losses)).item()\n",
    "        \n",
    "        # save the mean canonical loss from this epoch for comparison to that of other epochs to determine whether to save weights\n",
    "        val_mean_losses.append(epoch_mean_loss)\n",
    "        \n",
    "        # log mean losses with wandb\n",
    "        wandb.log({\"epoch_mean_loss\": epoch_mean_loss})\n",
    "        wandb.log({\"epoch_mean_E_loss\": epoch_mean_E_loss})\n",
    "        wandb.log({\"epoch_mean_F_loss\": epoch_mean_F_loss})\n",
    "        \n",
    "        # print out the results of the epoch\n",
    "        print(f'EPOCH {epoch+1} OF {num_epochs} | VAL MEAN LOSS: {epoch_mean_loss}')\n",
    "        \n",
    "        # if this is our best val performance yet, save the weights\n",
    "        if min(val_mean_losses) == epoch_mean_loss:\n",
    "            torch.save(model, '../weights/EGNN3.pth')\n",
    "            \n",
    "        scheduler.step(epoch_mean_loss)\n",
    "\n",
    "    # TEST\n",
    "    for data in test_loader:\n",
    "        # target values\n",
    "        E = data.energy\n",
    "        F = data.force\n",
    "        \n",
    "        # predictions from the model\n",
    "        E_hat, F_hat = model(data)\n",
    "        \n",
    "        # squared error for energy loss\n",
    "        E_squared_loss = loss_fn(torch.squeeze(E_hat), E)\n",
    "        \n",
    "        # a version of squared error for force loss\n",
    "        F_squared_loss = CalcF_squared_loss(F_hat, F)\n",
    "        \n",
    "        # canonical loss\n",
    "        squared_loss = (1 - rho) * E_loss + rho * F_loss\n",
    "        \n",
    "        # squared error for energy loss\n",
    "        E_absolute_loss = torch.abs(torch.squeeze(E_hat)-E)\n",
    "        E_absolute_loss = E_absolute_loss.sum()\n",
    "        \n",
    "        # a version of squared error for force loss\n",
    "        F_absolute_loss = CalcF_absolute_loss(F_hat, F)\n",
    "        \n",
    "        # canonical loss\n",
    "        absolute_loss = (1 - rho) * E_loss + rho * F_loss\n",
    "        \n",
    "        # save squared losses\n",
    "        test_squared_losses.append(squared_loss.item())\n",
    "        test_E_squared_losses.append(E_squared_loss.item())\n",
    "        test_F_squared_losses.append(F_squared_loss.item())\n",
    "        \n",
    "        # save absolute losses\n",
    "        test_absolute_losses.append(absolute_loss.item())\n",
    "        test_E_absolute_losses.append(E_absolute_loss.item())\n",
    "        test_F_absolute_losses.append(F_absolute_loss.item())\n",
    "\n",
    "    # calculate and log mean test losses\n",
    "    test_mean_squared_loss = torch.mean(torch.tensor(test_squared_losses)).item()\n",
    "    test_mean_E_squared_loss = torch.mean(torch.tensor(test_E_squared_losses)).item()\n",
    "    test_mean_F_squared_loss = torch.mean(torch.tensor(test_F_squared_losses)).item()\n",
    "\n",
    "    wandb.log({\"test_mean_squared_loss\": test_mean_squared_loss})\n",
    "    wandb.log({\"test_mean_E_squared_loss\": test_mean_E_squared_loss})\n",
    "    wandb.log({\"test_mean_F_squared_loss\": test_mean_F_squared_loss})\n",
    "\n",
    "    test_mean_absolute_loss = torch.mean(torch.tensor(test_absolute_losses)).item()\n",
    "    test_mean_E_absolute_loss = torch.mean(torch.tensor(test_E_absolute_losses)).item()\n",
    "    test_mean_F_absolute_loss = torch.mean(torch.tensor(test_F_absolute_losses)).item()\n",
    "\n",
    "    wandb.log({\"test_mean_absolute_loss\": test_mean_absolute_loss})\n",
    "    wandb.log({\"test_mean_E_absolute_loss\": test_mean_E_absolute_loss})\n",
    "    wandb.log({\"test_mean_F_absolute_loss\": test_mean_F_absolute_loss})\n",
    "\n",
    "    # print mean test losses\n",
    "    print(f'TEST MEAN SQUARED LOSS: {test_mean_squared_loss}')\n",
    "    print(f'TEST MEAN ABSOLUTE LOSS: {test_mean_squared_loss}')\n",
    "    \n",
    "    wandb.finish()"
   ]
  },
  {
   "cell_type": "code",
   "execution_count": null,
   "metadata": {},
   "outputs": [],
   "source": []
  }
 ],
 "metadata": {
  "kernelspec": {
   "display_name": "GDL",
   "language": "python",
   "name": "python3"
  },
  "language_info": {
   "codemirror_mode": {
    "name": "ipython",
    "version": 3
   },
   "file_extension": ".py",
   "mimetype": "text/x-python",
   "name": "python",
   "nbconvert_exporter": "python",
   "pygments_lexer": "ipython3",
   "version": "3.11.8"
  }
 },
 "nbformat": 4,
 "nbformat_minor": 2
}
