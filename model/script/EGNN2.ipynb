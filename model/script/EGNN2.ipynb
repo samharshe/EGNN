{
 "cells": [
  {
   "cell_type": "code",
   "execution_count": 8,
   "metadata": {},
   "outputs": [],
   "source": [
    "import torch\n",
    "from torch import Tensor\n",
    "\n",
    "from torch_geometric.datasets import MD17\n",
    "\n",
    "from torch.nn import Module, Embedding, Linear, MSELoss, LeakyReLU, SiLU\n",
    "from torch_geometric.nn import global_add_pool\n",
    "from torch_geometric.nn.conv import MessagePassing\n",
    "from torch_geometric.data import Data\n",
    "\n",
    "from torch.optim import Adam\n",
    "import torch.optim.lr_scheduler as lr_scheduler\n",
    "from torch_geometric.loader import DataLoader\n",
    "\n",
    "import numpy as np\n",
    "\n",
    "import wandb"
   ]
  },
  {
   "cell_type": "code",
   "execution_count": 9,
   "metadata": {},
   "outputs": [
    {
     "name": "stderr",
     "output_type": "stream",
     "text": [
      "/usr/local/Caskroom/miniconda/base/envs/GDL/lib/python3.11/site-packages/torch_geometric/data/dataset.py:239: UserWarning: The `pre_transform` argument differs from the one used in the pre-processed version of this dataset. If you want to make use of another pre-processing technique, pass `force_reload=True` explicitly to reload the dataset.\n",
      "  warnings.warn(\n"
     ]
    }
   ],
   "source": [
    "benzene_dataset = MD17(root='../../data/EGNN2/benzene', name='benzene', pre_transform=None, transform=None)"
   ]
  },
  {
   "cell_type": "code",
   "execution_count": 158,
   "metadata": {},
   "outputs": [],
   "source": [
    "class EGNN2(MessagePassing):\n",
    "    def __init__(self):\n",
    "        super().__init__()\n",
    "        \n",
    "        self.embedding = Embedding(118,32)\n",
    "        \n",
    "        self.message_lin = Linear(32 + 8, 32)\n",
    "        self.update_lin = Linear(32 + 32, 32)\n",
    "        \n",
    "        self.compress_lin = Linear(32, 1)\n",
    "        \n",
    "    def forward(self, data):\n",
    "        edge_index = data.edge_index\n",
    "        z = data.z\n",
    "        pos = data.pos\n",
    "        pos.requires_grad_(True)\n",
    "        \n",
    "        idx1, idx2 = edge_index\n",
    "        edge_distance = torch.norm(pos[idx1] - pos[idx2], p=2, dim=-1).view(-1, 1)\n",
    "        gaussian_edge_attr = gaussian_rbf(edge_distance)\n",
    "        \n",
    "        E_hat = self.embedding(z)\n",
    "        \n",
    "        E_hat = self.propagate(edge_index, x=E_hat, edge_attr=gaussian_edge_attr)\n",
    "        \n",
    "        E_hat = self.compress_lin(E_hat)\n",
    "                \n",
    "        E_hat = global_add_pool(E_hat, data.batch)\n",
    "        \n",
    "        F_hat = -torch.autograd.grad(E_hat.sum(), pos, retain_graph=True)[0]\n",
    "        \n",
    "        return E_hat, F_hat\n",
    "    \n",
    "    def message(self, x_j, edge_attr):\n",
    "        lin_in = torch.cat((x_j, edge_attr), dim=1).float()\n",
    "        \n",
    "        out = self.message_lin(lin_in)\n",
    "        \n",
    "        return out\n",
    "    \n",
    "    def update(self, aggr_out, x):\n",
    "        lin_in = torch.cat((aggr_out, x), dim=1).float()\n",
    "        \n",
    "        return self.update_lin(lin_in)\n",
    "        "
   ]
  },
  {
   "cell_type": "code",
   "execution_count": 159,
   "metadata": {},
   "outputs": [],
   "source": [
    "e = EGNN2()"
   ]
  },
  {
   "cell_type": "code",
   "execution_count": 160,
   "metadata": {},
   "outputs": [
    {
     "data": {
      "text/plain": [
       "(tensor([[-0.2419]], grad_fn=<SumBackward1>),\n",
       " tensor([[-0.0000,  0.4872, -0.0000],\n",
       "         [ 0.4219,  0.2439, -0.0000],\n",
       "         [ 0.4219, -0.2439, -0.0000],\n",
       "         [-0.0000, -0.4872, -0.0000],\n",
       "         [-0.4219, -0.2439, -0.0000],\n",
       "         [-0.4219,  0.2439, -0.0000],\n",
       "         [-0.0000, -0.0011, -0.0000],\n",
       "         [-0.0009, -0.0005, -0.0000],\n",
       "         [-0.0009,  0.0005, -0.0000],\n",
       "         [-0.0000,  0.0011, -0.0000],\n",
       "         [ 0.0009,  0.0005, -0.0000],\n",
       "         [ 0.0009, -0.0005, -0.0000]]))"
      ]
     },
     "execution_count": 160,
     "metadata": {},
     "output_type": "execute_result"
    }
   ],
   "source": [
    "e(data)"
   ]
  },
  {
   "cell_type": "markdown",
   "metadata": {},
   "source": [
    "for reference:  \n",
    "torch.max(benzene_dataset[:].edge_dist).item() == 0.1417"
   ]
  },
  {
   "cell_type": "code",
   "execution_count": 154,
   "metadata": {},
   "outputs": [],
   "source": [
    "def gaussian_rbf(x: Tensor) -> Tensor:\n",
    "    cs = torch.tensor(np.arange(0,1.6,0.2))\n",
    "    return torch.exp(torch.square((x - cs)) / -.005).float()"
   ]
  }
 ],
 "metadata": {
  "kernelspec": {
   "display_name": "GDL",
   "language": "python",
   "name": "python3"
  },
  "language_info": {
   "codemirror_mode": {
    "name": "ipython",
    "version": 3
   },
   "file_extension": ".py",
   "mimetype": "text/x-python",
   "name": "python",
   "nbconvert_exporter": "python",
   "pygments_lexer": "ipython3",
   "version": "3.11.8"
  }
 },
 "nbformat": 4,
 "nbformat_minor": 2
}
