{
 "cells": [
  {
   "cell_type": "code",
   "execution_count": 7,
   "metadata": {},
   "outputs": [],
   "source": [
    "import torch_geometric\n",
    "import torch_geometric.transforms as T\n",
    "from torch_geometric.transforms import RadiusGraph, NormalizeScale\n",
    "from typing import Any\n",
    "from torch_geometric.datasets import MD17\n",
    "import torch"
   ]
  },
  {
   "cell_type": "code",
   "execution_count": 8,
   "metadata": {},
   "outputs": [],
   "source": [
    "class NormalizeEnergy(T.BaseTransform):\n",
    "    def __call__(self, data: Any) -> Any:\n",
    "        data.energy = torch.div(data.energy, -406757.5938)\n",
    "        # -406757.5938 is the minimum energy (i.e., the maximum absolute value of energy) in the 3 datasets.\n",
    "        return data\n",
    "\n",
    "    def __repr__(self) -> str:\n",
    "        return f'{self.__class__.__name__}()'"
   ]
  },
  {
   "cell_type": "code",
   "execution_count": 9,
   "metadata": {},
   "outputs": [],
   "source": [
    "class NormalizeForce(T.BaseTransform):\n",
    "    def __call__(self, data: Any) -> Any:\n",
    "        data.force = torch.div(data.force, -406757.5938)\n",
    "        # -406757.5938 is the minimum energy (i.e., the maximum absolute value of energy) in the 3 datasets.\n",
    "        return data\n",
    "\n",
    "    def __repr__(self) -> str:\n",
    "        return f'{self.__class__.__name__}()'"
   ]
  },
  {
   "cell_type": "code",
   "execution_count": 10,
   "metadata": {},
   "outputs": [],
   "source": [
    "pre_transform = T.Compose([RadiusGraph(1.8100), NormalizeScale(), NormalizeForce(), NormalizeEnergy()])\n",
    "# 1.8100 is the maximum distance between two connected nodes in QM9"
   ]
  },
  {
   "cell_type": "code",
   "execution_count": 11,
   "metadata": {},
   "outputs": [
    {
     "name": "stderr",
     "output_type": "stream",
     "text": [
      "Downloading http://quantum-machine.org/gdml/data/npz/md17_benzene2017.npz\n",
      "Processing...\n",
      "Done!\n",
      "Downloading http://quantum-machine.org/gdml/data/npz/md17_uracil.npz\n",
      "Processing...\n",
      "Done!\n",
      "Downloading http://quantum-machine.org/gdml/data/npz/md17_aspirin.npz\n",
      "Processing...\n",
      "Done!\n"
     ]
    }
   ],
   "source": [
    "benzene_dataset = MD17(root='benzene/', name='benzene', pre_transform=pre_transform)\n",
    "uracil_dataset = MD17(root='uracil/', name='uracil', pre_transform=pre_transform)\n",
    "aspirin_dataset = MD17(root='aspirin/', name='aspirin', pre_transform=pre_transform)"
   ]
  }
 ],
 "metadata": {
  "kernelspec": {
   "display_name": "GDL",
   "language": "python",
   "name": "python3"
  },
  "language_info": {
   "codemirror_mode": {
    "name": "ipython",
    "version": 3
   },
   "file_extension": ".py",
   "mimetype": "text/x-python",
   "name": "python",
   "nbconvert_exporter": "python",
   "pygments_lexer": "ipython3",
   "version": "3.11.8"
  }
 },
 "nbformat": 4,
 "nbformat_minor": 2
}
